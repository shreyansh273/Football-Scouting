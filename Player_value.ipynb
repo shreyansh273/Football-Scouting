{
  "nbformat": 4,
  "nbformat_minor": 0,
  "metadata": {
    "colab": {
      "name": "Player value.ipynb",
      "provenance": [],
      "collapsed_sections": [],
      "authorship_tag": "ABX9TyObTo0IjomUt4MDYCUUQHOs",
      "include_colab_link": true
    },
    "kernelspec": {
      "name": "python3",
      "display_name": "Python 3"
    },
    "language_info": {
      "name": "python"
    }
  },
  "cells": [
    {
      "cell_type": "markdown",
      "metadata": {
        "id": "view-in-github",
        "colab_type": "text"
      },
      "source": [
        "<a href=\"https://colab.research.google.com/github/shreyansh273/Football-Scouting/blob/main/Player_value.ipynb\" target=\"_parent\"><img src=\"https://colab.research.google.com/assets/colab-badge.svg\" alt=\"Open In Colab\"/></a>"
      ]
    },
    {
      "cell_type": "code",
      "metadata": {
        "id": "sUH6LzM1OgG7"
      },
      "source": [
        "import requests\n",
        "from bs4 import BeautifulSoup\n",
        "import pandas as pd\n",
        "import numpy as np"
      ],
      "execution_count": 266,
      "outputs": []
    },
    {
      "cell_type": "code",
      "metadata": {
        "id": "-Ky0RomEmOSz"
      },
      "source": [
        "all_data = []\n",
        "for i in range(1966,2006):\n",
        "  for j in range(1,21):\n",
        "    url = \"https://www.transfermarkt.co.uk/spieler-statistik/wertvollstespieler/marktwertetop/plus/ajax/yw1/ausrichtung/alle/spielerposition_id/alle/altersklasse/alle/jahrgang/\"+str(i)+\"/land_id/0/kontinent_id/0/yt0/Show/0//page/\"+str(j)\n",
        "    heads = {'User-Agent' : 'Mozilla/5.0 (Windows NT 6.1; Win64; x64) AppleWebKit/537.36 (KHTML, like Gecko) Chrome/70.0.3538.110 Safari/537.36'}\n",
        "    html = requests.get(url, headers=heads).content\n",
        "    soup = BeautifulSoup(html, \"html.parser\")\n",
        "    table = soup.find(\"table\", class_=\"items\")\n",
        "    if table:\n",
        "      table_rows = table.find_all(\"tr\", {\"class\": [\"odd\", \"even\"]})\n",
        "      k=0\n",
        "      for tr in table_rows:\n",
        "        td = tr.find_all('td')\n",
        "        name = tr.find_all(\"td\")[3].text\n",
        "        field_position = tr.find_all(\"td\")[4].text\n",
        "        age = tr.find_all(\"td\")[5].text\n",
        "        mv = tr.find_all(\"td\")[8].text\n",
        "        data = {'Name': name, 'Field Position': field_position, 'Age': age, 'Market Value (Million)': mv}\n",
        "        all_data.append(data)\n",
        "        k=k+1\n",
        "      if k < 20:\n",
        "        break\n",
        "    else:\n",
        "      break"
      ],
      "execution_count": 243,
      "outputs": []
    },
    {
      "cell_type": "code",
      "metadata": {
        "colab": {
          "base_uri": "https://localhost:8080/",
          "height": 414
        },
        "id": "2GCLiEPjmOVX",
        "outputId": "39ea1203-aa98-48e9-8787-b115b208f90e"
      },
      "source": [
        "df = pd.DataFrame(all_data)\n",
        "df"
      ],
      "execution_count": 290,
      "outputs": [
        {
          "output_type": "execute_result",
          "data": {
            "text/html": [
              "<div>\n",
              "<style scoped>\n",
              "    .dataframe tbody tr th:only-of-type {\n",
              "        vertical-align: middle;\n",
              "    }\n",
              "\n",
              "    .dataframe tbody tr th {\n",
              "        vertical-align: top;\n",
              "    }\n",
              "\n",
              "    .dataframe thead th {\n",
              "        text-align: right;\n",
              "    }\n",
              "</style>\n",
              "<table border=\"1\" class=\"dataframe\">\n",
              "  <thead>\n",
              "    <tr style=\"text-align: right;\">\n",
              "      <th></th>\n",
              "      <th>Name</th>\n",
              "      <th>Field Position</th>\n",
              "      <th>Age</th>\n",
              "      <th>Market Value</th>\n",
              "    </tr>\n",
              "  </thead>\n",
              "  <tbody>\n",
              "    <tr>\n",
              "      <th>0</th>\n",
              "      <td>Kazuyoshi Miura</td>\n",
              "      <td>Centre-Forward</td>\n",
              "      <td>54</td>\n",
              "      <td>£90Th.</td>\n",
              "    </tr>\n",
              "    <tr>\n",
              "      <th>1</th>\n",
              "      <td>Xiaolong Yang</td>\n",
              "      <td>Defender</td>\n",
              "      <td>47</td>\n",
              "      <td>£23Th.</td>\n",
              "    </tr>\n",
              "    <tr>\n",
              "      <th>2</th>\n",
              "      <td>Yi Zhuang</td>\n",
              "      <td>attack</td>\n",
              "      <td>48</td>\n",
              "      <td>£23Th.</td>\n",
              "    </tr>\n",
              "    <tr>\n",
              "      <th>3</th>\n",
              "      <td>Vasil Kirov</td>\n",
              "      <td>Attacking Midfield</td>\n",
              "      <td>45</td>\n",
              "      <td>£45Th.</td>\n",
              "    </tr>\n",
              "    <tr>\n",
              "      <th>4</th>\n",
              "      <td>Mohamed Karkouri</td>\n",
              "      <td>Defender</td>\n",
              "      <td>45</td>\n",
              "      <td>£45Th.</td>\n",
              "    </tr>\n",
              "    <tr>\n",
              "      <th>...</th>\n",
              "      <td>...</td>\n",
              "      <td>...</td>\n",
              "      <td>...</td>\n",
              "      <td>...</td>\n",
              "    </tr>\n",
              "    <tr>\n",
              "      <th>12914</th>\n",
              "      <td>Aslan Baykadamov</td>\n",
              "      <td>Goalkeeper</td>\n",
              "      <td>16</td>\n",
              "      <td>£9Th.</td>\n",
              "    </tr>\n",
              "    <tr>\n",
              "      <th>12915</th>\n",
              "      <td>Frank Chávez</td>\n",
              "      <td>Right-Back</td>\n",
              "      <td>16</td>\n",
              "      <td>£9Th.</td>\n",
              "    </tr>\n",
              "    <tr>\n",
              "      <th>12916</th>\n",
              "      <td>Zepeng Liu</td>\n",
              "      <td>Defender</td>\n",
              "      <td>16</td>\n",
              "      <td>£9Th.</td>\n",
              "    </tr>\n",
              "    <tr>\n",
              "      <th>12917</th>\n",
              "      <td>Zhicheng Zhang</td>\n",
              "      <td>Goalkeeper</td>\n",
              "      <td>16</td>\n",
              "      <td>£9Th.</td>\n",
              "    </tr>\n",
              "    <tr>\n",
              "      <th>12918</th>\n",
              "      <td>Exequiel Mereles</td>\n",
              "      <td>attack</td>\n",
              "      <td>15</td>\n",
              "      <td>£9Th.</td>\n",
              "    </tr>\n",
              "  </tbody>\n",
              "</table>\n",
              "<p>12919 rows × 4 columns</p>\n",
              "</div>"
            ],
            "text/plain": [
              "                   Name      Field Position Age Market Value\n",
              "0       Kazuyoshi Miura      Centre-Forward  54      £90Th. \n",
              "1         Xiaolong Yang            Defender  47      £23Th. \n",
              "2             Yi Zhuang              attack  48      £23Th. \n",
              "3           Vasil Kirov  Attacking Midfield  45      £45Th. \n",
              "4      Mohamed Karkouri            Defender  45      £45Th. \n",
              "...                 ...                 ...  ..          ...\n",
              "12914  Aslan Baykadamov          Goalkeeper  16       £9Th. \n",
              "12915      Frank Chávez          Right-Back  16       £9Th. \n",
              "12916        Zepeng Liu            Defender  16       £9Th. \n",
              "12917    Zhicheng Zhang          Goalkeeper  16       £9Th. \n",
              "12918  Exequiel Mereles              attack  15       £9Th. \n",
              "\n",
              "[12919 rows x 4 columns]"
            ]
          },
          "metadata": {
            "tags": []
          },
          "execution_count": 290
        }
      ]
    },
    {
      "cell_type": "code",
      "metadata": {
        "colab": {
          "base_uri": "https://localhost:8080/",
          "height": 414
        },
        "id": "ZrzEf3YqWQC6",
        "outputId": "1e111dec-7eb8-4aad-8f2d-c86c9ea81ba5"
      },
      "source": [
        "df[\"Market Value\"] = np.where(df[\"Market Value\"].str.contains(\"Th\"), df[\"Market Value\"].replace({'m': '', 'Th.': '', '£':''},regex=True).astype(float)/1000, df[\"Market Value\"].replace({'m': '', 'Th.': '', '£':''},regex=True).astype(float))\n",
        "df.columns = [\"Name\",\"Field Position\", \"Age\", \"Market Value (Millions Pounds)\"]\n",
        "df"
      ],
      "execution_count": 291,
      "outputs": [
        {
          "output_type": "execute_result",
          "data": {
            "text/html": [
              "<div>\n",
              "<style scoped>\n",
              "    .dataframe tbody tr th:only-of-type {\n",
              "        vertical-align: middle;\n",
              "    }\n",
              "\n",
              "    .dataframe tbody tr th {\n",
              "        vertical-align: top;\n",
              "    }\n",
              "\n",
              "    .dataframe thead th {\n",
              "        text-align: right;\n",
              "    }\n",
              "</style>\n",
              "<table border=\"1\" class=\"dataframe\">\n",
              "  <thead>\n",
              "    <tr style=\"text-align: right;\">\n",
              "      <th></th>\n",
              "      <th>Name</th>\n",
              "      <th>Field Position</th>\n",
              "      <th>Age</th>\n",
              "      <th>Market Value (Millions Pounds)</th>\n",
              "    </tr>\n",
              "  </thead>\n",
              "  <tbody>\n",
              "    <tr>\n",
              "      <th>0</th>\n",
              "      <td>Kazuyoshi Miura</td>\n",
              "      <td>Centre-Forward</td>\n",
              "      <td>54</td>\n",
              "      <td>0.090</td>\n",
              "    </tr>\n",
              "    <tr>\n",
              "      <th>1</th>\n",
              "      <td>Xiaolong Yang</td>\n",
              "      <td>Defender</td>\n",
              "      <td>47</td>\n",
              "      <td>0.023</td>\n",
              "    </tr>\n",
              "    <tr>\n",
              "      <th>2</th>\n",
              "      <td>Yi Zhuang</td>\n",
              "      <td>attack</td>\n",
              "      <td>48</td>\n",
              "      <td>0.023</td>\n",
              "    </tr>\n",
              "    <tr>\n",
              "      <th>3</th>\n",
              "      <td>Vasil Kirov</td>\n",
              "      <td>Attacking Midfield</td>\n",
              "      <td>45</td>\n",
              "      <td>0.045</td>\n",
              "    </tr>\n",
              "    <tr>\n",
              "      <th>4</th>\n",
              "      <td>Mohamed Karkouri</td>\n",
              "      <td>Defender</td>\n",
              "      <td>45</td>\n",
              "      <td>0.045</td>\n",
              "    </tr>\n",
              "    <tr>\n",
              "      <th>...</th>\n",
              "      <td>...</td>\n",
              "      <td>...</td>\n",
              "      <td>...</td>\n",
              "      <td>...</td>\n",
              "    </tr>\n",
              "    <tr>\n",
              "      <th>12914</th>\n",
              "      <td>Aslan Baykadamov</td>\n",
              "      <td>Goalkeeper</td>\n",
              "      <td>16</td>\n",
              "      <td>0.009</td>\n",
              "    </tr>\n",
              "    <tr>\n",
              "      <th>12915</th>\n",
              "      <td>Frank Chávez</td>\n",
              "      <td>Right-Back</td>\n",
              "      <td>16</td>\n",
              "      <td>0.009</td>\n",
              "    </tr>\n",
              "    <tr>\n",
              "      <th>12916</th>\n",
              "      <td>Zepeng Liu</td>\n",
              "      <td>Defender</td>\n",
              "      <td>16</td>\n",
              "      <td>0.009</td>\n",
              "    </tr>\n",
              "    <tr>\n",
              "      <th>12917</th>\n",
              "      <td>Zhicheng Zhang</td>\n",
              "      <td>Goalkeeper</td>\n",
              "      <td>16</td>\n",
              "      <td>0.009</td>\n",
              "    </tr>\n",
              "    <tr>\n",
              "      <th>12918</th>\n",
              "      <td>Exequiel Mereles</td>\n",
              "      <td>attack</td>\n",
              "      <td>15</td>\n",
              "      <td>0.009</td>\n",
              "    </tr>\n",
              "  </tbody>\n",
              "</table>\n",
              "<p>12919 rows × 4 columns</p>\n",
              "</div>"
            ],
            "text/plain": [
              "                   Name      Field Position Age  Market Value (Millions Pounds)\n",
              "0       Kazuyoshi Miura      Centre-Forward  54                           0.090\n",
              "1         Xiaolong Yang            Defender  47                           0.023\n",
              "2             Yi Zhuang              attack  48                           0.023\n",
              "3           Vasil Kirov  Attacking Midfield  45                           0.045\n",
              "4      Mohamed Karkouri            Defender  45                           0.045\n",
              "...                 ...                 ...  ..                             ...\n",
              "12914  Aslan Baykadamov          Goalkeeper  16                           0.009\n",
              "12915      Frank Chávez          Right-Back  16                           0.009\n",
              "12916        Zepeng Liu            Defender  16                           0.009\n",
              "12917    Zhicheng Zhang          Goalkeeper  16                           0.009\n",
              "12918  Exequiel Mereles              attack  15                           0.009\n",
              "\n",
              "[12919 rows x 4 columns]"
            ]
          },
          "metadata": {
            "tags": []
          },
          "execution_count": 291
        }
      ]
    },
    {
      "cell_type": "code",
      "metadata": {
        "colab": {
          "base_uri": "https://localhost:8080/",
          "height": 414
        },
        "id": "6wXsr0pgWrw6",
        "outputId": "55170662-cfd0-4485-c868-3fd58af1b154"
      },
      "source": [
        "df.sort_values(\"Market Value (Millions Pounds)\", ascending=False, inplace=True)\n",
        "df"
      ],
      "execution_count": 292,
      "outputs": [
        {
          "output_type": "execute_result",
          "data": {
            "text/html": [
              "<div>\n",
              "<style scoped>\n",
              "    .dataframe tbody tr th:only-of-type {\n",
              "        vertical-align: middle;\n",
              "    }\n",
              "\n",
              "    .dataframe tbody tr th {\n",
              "        vertical-align: top;\n",
              "    }\n",
              "\n",
              "    .dataframe thead th {\n",
              "        text-align: right;\n",
              "    }\n",
              "</style>\n",
              "<table border=\"1\" class=\"dataframe\">\n",
              "  <thead>\n",
              "    <tr style=\"text-align: right;\">\n",
              "      <th></th>\n",
              "      <th>Name</th>\n",
              "      <th>Field Position</th>\n",
              "      <th>Age</th>\n",
              "      <th>Market Value (Millions Pounds)</th>\n",
              "    </tr>\n",
              "  </thead>\n",
              "  <tbody>\n",
              "    <tr>\n",
              "      <th>9004</th>\n",
              "      <td>Kylian Mbappé</td>\n",
              "      <td>Centre-Forward</td>\n",
              "      <td>22</td>\n",
              "      <td>144.000</td>\n",
              "    </tr>\n",
              "    <tr>\n",
              "      <th>10004</th>\n",
              "      <td>Erling Haaland</td>\n",
              "      <td>Centre-Forward</td>\n",
              "      <td>20</td>\n",
              "      <td>117.000</td>\n",
              "    </tr>\n",
              "    <tr>\n",
              "      <th>6504</th>\n",
              "      <td>Harry Kane</td>\n",
              "      <td>Centre-Forward</td>\n",
              "      <td>27</td>\n",
              "      <td>108.000</td>\n",
              "    </tr>\n",
              "    <tr>\n",
              "      <th>6004</th>\n",
              "      <td>Mohamed Salah</td>\n",
              "      <td>Right Winger</td>\n",
              "      <td>29</td>\n",
              "      <td>90.000</td>\n",
              "    </tr>\n",
              "    <tr>\n",
              "      <th>5504</th>\n",
              "      <td>Kevin De Bruyne</td>\n",
              "      <td>Attacking Midfield</td>\n",
              "      <td>30</td>\n",
              "      <td>90.000</td>\n",
              "    </tr>\n",
              "    <tr>\n",
              "      <th>...</th>\n",
              "      <td>...</td>\n",
              "      <td>...</td>\n",
              "      <td>...</td>\n",
              "      <td>...</td>\n",
              "    </tr>\n",
              "    <tr>\n",
              "      <th>12606</th>\n",
              "      <td>Niilo-Olavi Puustinen</td>\n",
              "      <td>Attacking Midfield</td>\n",
              "      <td>16</td>\n",
              "      <td>0.009</td>\n",
              "    </tr>\n",
              "    <tr>\n",
              "      <th>12605</th>\n",
              "      <td>Ali Manaf</td>\n",
              "      <td>midfield</td>\n",
              "      <td>16</td>\n",
              "      <td>0.009</td>\n",
              "    </tr>\n",
              "    <tr>\n",
              "      <th>12604</th>\n",
              "      <td>Mario Aioanei</td>\n",
              "      <td>Defender</td>\n",
              "      <td>16</td>\n",
              "      <td>0.009</td>\n",
              "    </tr>\n",
              "    <tr>\n",
              "      <th>12603</th>\n",
              "      <td>Robert Ioan Mihaly</td>\n",
              "      <td>midfield</td>\n",
              "      <td>16</td>\n",
              "      <td>0.009</td>\n",
              "    </tr>\n",
              "    <tr>\n",
              "      <th>1003</th>\n",
              "      <td>Asparuh Vasilev</td>\n",
              "      <td>attack</td>\n",
              "      <td>39</td>\n",
              "      <td>0.005</td>\n",
              "    </tr>\n",
              "  </tbody>\n",
              "</table>\n",
              "<p>12919 rows × 4 columns</p>\n",
              "</div>"
            ],
            "text/plain": [
              "                        Name  ... Market Value (Millions Pounds)\n",
              "9004           Kylian Mbappé  ...                        144.000\n",
              "10004         Erling Haaland  ...                        117.000\n",
              "6504              Harry Kane  ...                        108.000\n",
              "6004           Mohamed Salah  ...                         90.000\n",
              "5504         Kevin De Bruyne  ...                         90.000\n",
              "...                      ...  ...                            ...\n",
              "12606  Niilo-Olavi Puustinen  ...                          0.009\n",
              "12605              Ali Manaf  ...                          0.009\n",
              "12604          Mario Aioanei  ...                          0.009\n",
              "12603     Robert Ioan Mihaly  ...                          0.009\n",
              "1003         Asparuh Vasilev  ...                          0.005\n",
              "\n",
              "[12919 rows x 4 columns]"
            ]
          },
          "metadata": {
            "tags": []
          },
          "execution_count": 292
        }
      ]
    },
    {
      "cell_type": "code",
      "metadata": {
        "id": "r30iJSO0O2wE",
        "colab": {
          "base_uri": "https://localhost:8080/",
          "height": 232
        },
        "outputId": "96f9b7a8-0a2b-49ba-934a-ee2bcc411df9"
      },
      "source": [
        "df[df.Name.str.contains(\"Ronaldo\")]"
      ],
      "execution_count": 293,
      "outputs": [
        {
          "output_type": "execute_result",
          "data": {
            "text/html": [
              "<div>\n",
              "<style scoped>\n",
              "    .dataframe tbody tr th:only-of-type {\n",
              "        vertical-align: middle;\n",
              "    }\n",
              "\n",
              "    .dataframe tbody tr th {\n",
              "        vertical-align: top;\n",
              "    }\n",
              "\n",
              "    .dataframe thead th {\n",
              "        text-align: right;\n",
              "    }\n",
              "</style>\n",
              "<table border=\"1\" class=\"dataframe\">\n",
              "  <thead>\n",
              "    <tr style=\"text-align: right;\">\n",
              "      <th></th>\n",
              "      <th>Name</th>\n",
              "      <th>Field Position</th>\n",
              "      <th>Age</th>\n",
              "      <th>Market Value (Millions Pounds)</th>\n",
              "    </tr>\n",
              "  </thead>\n",
              "  <tbody>\n",
              "    <tr>\n",
              "      <th>2504</th>\n",
              "      <td>Cristiano Ronaldo</td>\n",
              "      <td>Centre-Forward</td>\n",
              "      <td>36</td>\n",
              "      <td>40.500</td>\n",
              "    </tr>\n",
              "    <tr>\n",
              "      <th>9150</th>\n",
              "      <td>Ronaldo Vieira</td>\n",
              "      <td>Central Midfield</td>\n",
              "      <td>22</td>\n",
              "      <td>4.500</td>\n",
              "    </tr>\n",
              "    <tr>\n",
              "      <th>11573</th>\n",
              "      <td>Ronaldo Camará</td>\n",
              "      <td>Attacking Midfield</td>\n",
              "      <td>18</td>\n",
              "      <td>0.585</td>\n",
              "    </tr>\n",
              "    <tr>\n",
              "      <th>4996</th>\n",
              "      <td>Ronaldo Alves</td>\n",
              "      <td>Centre-Back</td>\n",
              "      <td>32</td>\n",
              "      <td>0.495</td>\n",
              "    </tr>\n",
              "    <tr>\n",
              "      <th>3879</th>\n",
              "      <td>Ronaldo Conceição</td>\n",
              "      <td>Centre-Back</td>\n",
              "      <td>34</td>\n",
              "      <td>0.360</td>\n",
              "    </tr>\n",
              "    <tr>\n",
              "      <th>12241</th>\n",
              "      <td>Ronaldo Kwateh</td>\n",
              "      <td>Right Winger</td>\n",
              "      <td>16</td>\n",
              "      <td>0.045</td>\n",
              "    </tr>\n",
              "  </tbody>\n",
              "</table>\n",
              "</div>"
            ],
            "text/plain": [
              "                    Name  ... Market Value (Millions Pounds)\n",
              "2504   Cristiano Ronaldo  ...                         40.500\n",
              "9150      Ronaldo Vieira  ...                          4.500\n",
              "11573     Ronaldo Camará  ...                          0.585\n",
              "4996       Ronaldo Alves  ...                          0.495\n",
              "3879   Ronaldo Conceição  ...                          0.360\n",
              "12241     Ronaldo Kwateh  ...                          0.045\n",
              "\n",
              "[6 rows x 4 columns]"
            ]
          },
          "metadata": {
            "tags": []
          },
          "execution_count": 293
        }
      ]
    },
    {
      "cell_type": "code",
      "metadata": {
        "id": "2jecS2V-SDwJ"
      },
      "source": [
        "df.to_csv(\"players_data.csv\")"
      ],
      "execution_count": 283,
      "outputs": []
    },
    {
      "cell_type": "code",
      "metadata": {
        "colab": {
          "base_uri": "https://localhost:8080/",
          "height": 17
        },
        "id": "j19Mu-67-ORY",
        "outputId": "92464aa6-4f7a-4507-80d6-049755cd1d3c"
      },
      "source": [
        "from google.colab import files\n",
        "files.download(\"players_data.csv\")"
      ],
      "execution_count": 284,
      "outputs": [
        {
          "output_type": "display_data",
          "data": {
            "application/javascript": [
              "\n",
              "    async function download(id, filename, size) {\n",
              "      if (!google.colab.kernel.accessAllowed) {\n",
              "        return;\n",
              "      }\n",
              "      const div = document.createElement('div');\n",
              "      const label = document.createElement('label');\n",
              "      label.textContent = `Downloading \"${filename}\": `;\n",
              "      div.appendChild(label);\n",
              "      const progress = document.createElement('progress');\n",
              "      progress.max = size;\n",
              "      div.appendChild(progress);\n",
              "      document.body.appendChild(div);\n",
              "\n",
              "      const buffers = [];\n",
              "      let downloaded = 0;\n",
              "\n",
              "      const channel = await google.colab.kernel.comms.open(id);\n",
              "      // Send a message to notify the kernel that we're ready.\n",
              "      channel.send({})\n",
              "\n",
              "      for await (const message of channel.messages) {\n",
              "        // Send a message to notify the kernel that we're ready.\n",
              "        channel.send({})\n",
              "        if (message.buffers) {\n",
              "          for (const buffer of message.buffers) {\n",
              "            buffers.push(buffer);\n",
              "            downloaded += buffer.byteLength;\n",
              "            progress.value = downloaded;\n",
              "          }\n",
              "        }\n",
              "      }\n",
              "      const blob = new Blob(buffers, {type: 'application/binary'});\n",
              "      const a = document.createElement('a');\n",
              "      a.href = window.URL.createObjectURL(blob);\n",
              "      a.download = filename;\n",
              "      div.appendChild(a);\n",
              "      a.click();\n",
              "      div.remove();\n",
              "    }\n",
              "  "
            ],
            "text/plain": [
              "<IPython.core.display.Javascript object>"
            ]
          },
          "metadata": {
            "tags": []
          }
        },
        {
          "output_type": "display_data",
          "data": {
            "application/javascript": [
              "download(\"download_41669412-1318-439d-b7de-7ee48402fdf4\", \"players_data.csv\", 538436)"
            ],
            "text/plain": [
              "<IPython.core.display.Javascript object>"
            ]
          },
          "metadata": {
            "tags": []
          }
        }
      ]
    },
    {
      "cell_type": "code",
      "metadata": {
        "id": "xbo-FyHzBwys"
      },
      "source": [
        ""
      ],
      "execution_count": null,
      "outputs": []
    },
    {
      "cell_type": "code",
      "metadata": {
        "id": "WYGvr9nHBw1H"
      },
      "source": [
        ""
      ],
      "execution_count": null,
      "outputs": []
    },
    {
      "cell_type": "code",
      "metadata": {
        "id": "oq69RoCxBw3n"
      },
      "source": [
        ""
      ],
      "execution_count": null,
      "outputs": []
    },
    {
      "cell_type": "code",
      "metadata": {
        "id": "At7VRJYfBw6p"
      },
      "source": [
        ""
      ],
      "execution_count": null,
      "outputs": []
    },
    {
      "cell_type": "code",
      "metadata": {
        "id": "E2afUyjaBw9c"
      },
      "source": [
        ""
      ],
      "execution_count": null,
      "outputs": []
    },
    {
      "cell_type": "code",
      "metadata": {
        "id": "apDFyTVdBxAT"
      },
      "source": [
        ""
      ],
      "execution_count": null,
      "outputs": []
    },
    {
      "cell_type": "code",
      "metadata": {
        "id": "KXCCYUX8BxDH"
      },
      "source": [
        ""
      ],
      "execution_count": null,
      "outputs": []
    },
    {
      "cell_type": "code",
      "metadata": {
        "id": "91UxWvC6BxFz"
      },
      "source": [
        ""
      ],
      "execution_count": null,
      "outputs": []
    },
    {
      "cell_type": "code",
      "metadata": {
        "id": "XKArRSW2BxIc"
      },
      "source": [
        ""
      ],
      "execution_count": null,
      "outputs": []
    },
    {
      "cell_type": "code",
      "metadata": {
        "id": "MnE7msRuBxLU"
      },
      "source": [
        ""
      ],
      "execution_count": null,
      "outputs": []
    },
    {
      "cell_type": "code",
      "metadata": {
        "id": "kDOSaDJ9BxNr"
      },
      "source": [
        ""
      ],
      "execution_count": null,
      "outputs": []
    },
    {
      "cell_type": "code",
      "metadata": {
        "id": "ichPpiIPBxQV"
      },
      "source": [
        ""
      ],
      "execution_count": null,
      "outputs": []
    }
  ]
}