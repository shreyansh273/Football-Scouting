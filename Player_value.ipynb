{
  "nbformat": 4,
  "nbformat_minor": 0,
  "metadata": {
    "colab": {
      "name": "Player value.ipynb",
      "provenance": [],
      "collapsed_sections": [],
      "authorship_tag": "ABX9TyOA5uzkUjBc+TDE9zR8+2y/",
      "include_colab_link": true
    },
    "kernelspec": {
      "name": "python3",
      "display_name": "Python 3"
    },
    "language_info": {
      "name": "python"
    }
  },
  "cells": [
    {
      "cell_type": "markdown",
      "metadata": {
        "id": "view-in-github",
        "colab_type": "text"
      },
      "source": [
        "<a href=\"https://colab.research.google.com/github/shreyansh273/Football-Scouting/blob/main/Player_value.ipynb\" target=\"_parent\"><img src=\"https://colab.research.google.com/assets/colab-badge.svg\" alt=\"Open In Colab\"/></a>"
      ]
    },
    {
      "cell_type": "code",
      "metadata": {
        "id": "sUH6LzM1OgG7"
      },
      "source": [
        "from scrapy import Selector\n",
        "import requests"
      ],
      "execution_count": 3,
      "outputs": []
    },
    {
      "cell_type": "code",
      "metadata": {
        "id": "K3lA5W-eRfV4"
      },
      "source": [
        "url = \"https://www.transfermarkt.co.uk/spieler-statistik/wertvollstespieler/marktwertetop\"\n",
        "heads = {'User-Agent' : 'Mozilla/5.0 (Windows NT 6.1; Win64; x64) AppleWebKit/537.36 (KHTML, like Gecko) Chrome/70.0.3538.110 Safari/537.36'}\n",
        "html = requests.get(url, headers=heads).content"
      ],
      "execution_count": 68,
      "outputs": []
    },
    {
      "cell_type": "code",
      "metadata": {
        "id": "HV3rrtGLtBvD"
      },
      "source": [
        "soup = BeautifulSoup(html, \"html.parser\")\n",
        "table = soup.find(\"table\", class_=\"items\")\n",
        "table_rows = table.find_all(\"tr\", {\"class\": [\"odd\", \"even\"]})"
      ],
      "execution_count": 105,
      "outputs": []
    },
    {
      "cell_type": "code",
      "metadata": {
        "id": "tbvSseopvub6"
      },
      "source": [
        "all_data = []"
      ],
      "execution_count": 122,
      "outputs": []
    },
    {
      "cell_type": "code",
      "metadata": {
        "id": "CEGMUvnPvujJ"
      },
      "source": [
        "for tr in table_rows:\n",
        "    td = tr.find_all('td')\n",
        "    name = tr.find_all(\"td\")[3].text\n",
        "    field_position = tr.find_all(\"td\")[4].text\n",
        "    age = tr.find_all(\"td\")[5].text\n",
        "    mv = tr.find_all(\"td\")[8].text\n",
        "    all_data.append({\n",
        "      'Name': name,\n",
        "      'Field Position': field_position,\n",
        "      'Age': age,\n",
        "      'Market Value': mv})"
      ],
      "execution_count": 123,
      "outputs": []
    },
    {
      "cell_type": "code",
      "metadata": {
        "colab": {
          "base_uri": "https://localhost:8080/"
        },
        "id": "UwUGAOEZmOPt",
        "outputId": "1ec743d4-8bb9-4944-e1db-e24daf4aff32"
      },
      "source": [
        "df = pd.DataFrame(all_data)\n",
        "print(df)"
      ],
      "execution_count": 124,
      "outputs": [
        {
          "output_type": "stream",
          "text": [
            "                      Name      Field Position Age Market Value\n",
            "0            Kylian Mbappé      Centre-Forward  22    £144.00m \n",
            "1           Erling Haaland      Centre-Forward  20    £117.00m \n",
            "2               Harry Kane      Centre-Forward  27    £108.00m \n",
            "3             Jadon Sancho        Right Winger  21     £90.00m \n",
            "4            Mohamed Salah        Right Winger  29     £90.00m \n",
            "5            Romelu Lukaku      Centre-Forward  28     £90.00m \n",
            "6          Kevin De Bruyne  Attacking Midfield  30     £90.00m \n",
            "7                   Neymar         Left Winger  29     £90.00m \n",
            "8          Frenkie de Jong    Central Midfield  24     £81.00m \n",
            "9          Bruno Fernandes  Attacking Midfield  26     £81.00m \n",
            "10          Joshua Kimmich  Defensive Midfield  26     £81.00m \n",
            "11         Raheem Sterling         Left Winger  26     £81.00m \n",
            "12         Marcus Rashford         Left Winger  23     £76.50m \n",
            "13              Sadio Mané         Left Winger  29     £76.50m \n",
            "14           Heung-min Son         Left Winger  29     £76.50m \n",
            "15              João Félix      Second Striker  21     £72.00m \n",
            "16              Phil Foden         Left Winger  21     £72.00m \n",
            "17        Lautaro Martínez      Centre-Forward  23     £72.00m \n",
            "18         Marcos Llorente    Central Midfield  26     £72.00m \n",
            "19            Lionel Messi        Right Winger  34     £72.00m \n",
            "20             Mason Mount  Attacking Midfield  22     £67.50m \n",
            "21        Matthijs de Ligt         Centre-Back  21     £67.50m \n",
            "22  Trent Alexander-Arnold          Right-Back  22     £67.50m \n",
            "23              Rúben Dias         Centre-Back  24     £67.50m \n",
            "24              Marquinhos         Centre-Back  27     £67.50m \n"
          ],
          "name": "stdout"
        }
      ]
    },
    {
      "cell_type": "code",
      "metadata": {
        "id": "-Ky0RomEmOSz"
      },
      "source": [
        ""
      ],
      "execution_count": null,
      "outputs": []
    },
    {
      "cell_type": "code",
      "metadata": {
        "id": "2GCLiEPjmOVX"
      },
      "source": [
        ""
      ],
      "execution_count": null,
      "outputs": []
    },
    {
      "cell_type": "code",
      "metadata": {
        "id": "r30iJSO0O2wE"
      },
      "source": [
        ""
      ],
      "execution_count": null,
      "outputs": []
    },
    {
      "cell_type": "code",
      "metadata": {
        "id": "5MOzodVtO2zQ"
      },
      "source": [
        ""
      ],
      "execution_count": null,
      "outputs": []
    }
  ]
}