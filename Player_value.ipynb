{
  "nbformat": 4,
  "nbformat_minor": 0,
  "metadata": {
    "colab": {
      "name": "Player value.ipynb",
      "provenance": [],
      "collapsed_sections": [],
      "authorship_tag": "ABX9TyPyX0QWQf9lQXdHeffI/imZ",
      "include_colab_link": true
    },
    "kernelspec": {
      "name": "python3",
      "display_name": "Python 3"
    },
    "language_info": {
      "name": "python"
    }
  },
  "cells": [
    {
      "cell_type": "markdown",
      "metadata": {
        "id": "view-in-github",
        "colab_type": "text"
      },
      "source": [
        "<a href=\"https://colab.research.google.com/github/shreyansh273/Football-Scouting/blob/main/Player_value.ipynb\" target=\"_parent\"><img src=\"https://colab.research.google.com/assets/colab-badge.svg\" alt=\"Open In Colab\"/></a>"
      ]
    },
    {
      "cell_type": "code",
      "metadata": {
        "id": "sUH6LzM1OgG7"
      },
      "source": [
        "import requests\n",
        "from bs4 import BeautifulSoup\n",
        "import pandas as pd\n",
        "import numpy as np"
      ],
      "execution_count": 266,
      "outputs": []
    },
    {
      "cell_type": "code",
      "metadata": {
        "id": "-Ky0RomEmOSz"
      },
      "source": [
        "all_data = []\n",
        "for i in range(1966,2006):\n",
        "  for j in range(1,21):\n",
        "    url = \"https://www.transfermarkt.co.uk/spieler-statistik/wertvollstespieler/marktwertetop/plus/ajax/yw1/ausrichtung/alle/spielerposition_id/alle/altersklasse/alle/jahrgang/\"+str(i)+\"/land_id/0/kontinent_id/0/yt0/Show/0//page/\"+str(j)\n",
        "    heads = {'User-Agent' : 'Mozilla/5.0 (Windows NT 6.1; Win64; x64) AppleWebKit/537.36 (KHTML, like Gecko) Chrome/70.0.3538.110 Safari/537.36'}\n",
        "    html = requests.get(url, headers=heads).content\n",
        "    soup = BeautifulSoup(html, \"html.parser\")\n",
        "    table = soup.find(\"table\", class_=\"items\")\n",
        "    if table:\n",
        "      table_rows = table.find_all(\"tr\", {\"class\": [\"odd\", \"even\"]})\n",
        "      k=0\n",
        "      for tr in table_rows:\n",
        "        td = tr.find_all('td')\n",
        "        name = tr.find_all(\"td\")[3].text\n",
        "        field_position = tr.find_all(\"td\")[4].text\n",
        "        age = tr.find_all(\"td\")[5].text\n",
        "        mv = tr.find_all(\"td\")[8].text\n",
        "        data = {'Name': name, 'Field Position': field_position, 'Age': age, 'Market Value (Million)': mv}\n",
        "        all_data.append(data)\n",
        "        k=k+1\n",
        "      if k < 20:\n",
        "        break\n",
        "    else:\n",
        "      break"
      ],
      "execution_count": 243,
      "outputs": []
    },
    {
      "cell_type": "code",
      "metadata": {
        "colab": {
          "base_uri": "https://localhost:8080/"
        },
        "id": "2GCLiEPjmOVX",
        "outputId": "212c5f84-faae-4a64-bcfb-1f354d58f109"
      },
      "source": [
        "df = pd.DataFrame(all_data).sort_values([\"Market Value\"], ascending=[True])\n",
        "print(df)"
      ],
      "execution_count": 276,
      "outputs": [
        {
          "output_type": "stream",
          "text": [
            "                     Name  Field Position Age Market Value\n",
            "5290       Pedro Henrique     Left Winger  31      £1.08m \n",
            "6423          Collins Fai      Right-Back  28      £1.08m \n",
            "6422      Nemanja Nikolic  Centre-Forward  28      £1.08m \n",
            "6421   Miljan Vukadinovic    Right Winger  28      £1.08m \n",
            "6420           Gil Alcalá      Goalkeeper  28      £1.08m \n",
            "...                   ...             ...  ..          ...\n",
            "12604       Mario Aioanei        Defender  16       £9Th. \n",
            "12603  Robert Ioan Mihaly        midfield  16       £9Th. \n",
            "12602       Andrei Toader      Goalkeeper  16       £9Th. \n",
            "12600    Thorlákur Baxter          attack  16       £9Th. \n",
            "12918    Exequiel Mereles          attack  15       £9Th. \n",
            "\n",
            "[12919 rows x 4 columns]\n"
          ],
          "name": "stdout"
        }
      ]
    },
    {
      "cell_type": "code",
      "metadata": {
        "colab": {
          "base_uri": "https://localhost:8080/"
        },
        "id": "ZrzEf3YqWQC6",
        "outputId": "62a0f0c7-de74-4807-ef49-7cb82d996241"
      },
      "source": [
        "df[\"Market Value\"] = np.where(df[\"Market Value\"].str.contains(\"Th\"), df[\"Market Value\"].replace({'m': '', 'Th.': '', '£':''},regex=True).astype(float)/1000, df[\"Market Value\"].replace({'m': '', 'Th.': '', '£':''},regex=True).astype(float))\n",
        "df.columns = [\"Name\",\"Field Position\", \"Age\", \"Market Value (Millions)\"]\n",
        "print(df)"
      ],
      "execution_count": 277,
      "outputs": [
        {
          "output_type": "stream",
          "text": [
            "                     Name  Field Position Age  Market Value (Millions)\n",
            "5290       Pedro Henrique     Left Winger  31                    1.080\n",
            "6423          Collins Fai      Right-Back  28                    1.080\n",
            "6422      Nemanja Nikolic  Centre-Forward  28                    1.080\n",
            "6421   Miljan Vukadinovic    Right Winger  28                    1.080\n",
            "6420           Gil Alcalá      Goalkeeper  28                    1.080\n",
            "...                   ...             ...  ..                      ...\n",
            "12604       Mario Aioanei        Defender  16                    0.009\n",
            "12603  Robert Ioan Mihaly        midfield  16                    0.009\n",
            "12602       Andrei Toader      Goalkeeper  16                    0.009\n",
            "12600    Thorlákur Baxter          attack  16                    0.009\n",
            "12918    Exequiel Mereles          attack  15                    0.009\n",
            "\n",
            "[12919 rows x 4 columns]\n"
          ],
          "name": "stdout"
        }
      ]
    },
    {
      "cell_type": "code",
      "metadata": {
        "colab": {
          "base_uri": "https://localhost:8080/"
        },
        "id": "6wXsr0pgWrw6",
        "outputId": "65f81d31-611a-484c-801b-719a9d2d8339"
      },
      "source": [
        "print(df.sort_values(\"Market Value (Millions)\", ascending=False))"
      ],
      "execution_count": 278,
      "outputs": [
        {
          "output_type": "stream",
          "text": [
            "                    Name  Field Position Age  Market Value (Millions)\n",
            "9004       Kylian Mbappé  Centre-Forward  22                  144.000\n",
            "10004     Erling Haaland  Centre-Forward  20                  117.000\n",
            "6504          Harry Kane  Centre-Forward  27                  108.000\n",
            "10005       Jadon Sancho    Right Winger  21                   90.000\n",
            "6005              Neymar     Left Winger  29                   90.000\n",
            "...                  ...             ...  ..                      ...\n",
            "12912  Cristian Ciuperca      Goalkeeper  16                    0.009\n",
            "12913     Ular Madaminov          attack  16                    0.009\n",
            "12914   Aslan Baykadamov      Goalkeeper  16                    0.009\n",
            "12915       Frank Chávez      Right-Back  16                    0.009\n",
            "1003     Asparuh Vasilev          attack  39                    0.005\n",
            "\n",
            "[12919 rows x 4 columns]\n"
          ],
          "name": "stdout"
        }
      ]
    },
    {
      "cell_type": "code",
      "metadata": {
        "id": "r30iJSO0O2wE",
        "colab": {
          "base_uri": "https://localhost:8080/",
          "height": 232
        },
        "outputId": "c4c7ead7-b880-4394-9f61-561d24128e24"
      },
      "source": [
        "df[df.Name.str.contains(\"Ronaldo\")]"
      ],
      "execution_count": 282,
      "outputs": [
        {
          "output_type": "execute_result",
          "data": {
            "text/html": [
              "<div>\n",
              "<style scoped>\n",
              "    .dataframe tbody tr th:only-of-type {\n",
              "        vertical-align: middle;\n",
              "    }\n",
              "\n",
              "    .dataframe tbody tr th {\n",
              "        vertical-align: top;\n",
              "    }\n",
              "\n",
              "    .dataframe thead th {\n",
              "        text-align: right;\n",
              "    }\n",
              "</style>\n",
              "<table border=\"1\" class=\"dataframe\">\n",
              "  <thead>\n",
              "    <tr style=\"text-align: right;\">\n",
              "      <th></th>\n",
              "      <th>Name</th>\n",
              "      <th>Field Position</th>\n",
              "      <th>Age</th>\n",
              "      <th>Market Value (Millions)</th>\n",
              "    </tr>\n",
              "  </thead>\n",
              "  <tbody>\n",
              "    <tr>\n",
              "      <th>3879</th>\n",
              "      <td>Ronaldo Conceição</td>\n",
              "      <td>Centre-Back</td>\n",
              "      <td>34</td>\n",
              "      <td>0.360</td>\n",
              "    </tr>\n",
              "    <tr>\n",
              "      <th>9150</th>\n",
              "      <td>Ronaldo Vieira</td>\n",
              "      <td>Central Midfield</td>\n",
              "      <td>22</td>\n",
              "      <td>4.500</td>\n",
              "    </tr>\n",
              "    <tr>\n",
              "      <th>2504</th>\n",
              "      <td>Cristiano Ronaldo</td>\n",
              "      <td>Centre-Forward</td>\n",
              "      <td>36</td>\n",
              "      <td>40.500</td>\n",
              "    </tr>\n",
              "    <tr>\n",
              "      <th>12241</th>\n",
              "      <td>Ronaldo Kwateh</td>\n",
              "      <td>Right Winger</td>\n",
              "      <td>16</td>\n",
              "      <td>0.045</td>\n",
              "    </tr>\n",
              "    <tr>\n",
              "      <th>4996</th>\n",
              "      <td>Ronaldo Alves</td>\n",
              "      <td>Centre-Back</td>\n",
              "      <td>32</td>\n",
              "      <td>0.495</td>\n",
              "    </tr>\n",
              "    <tr>\n",
              "      <th>11573</th>\n",
              "      <td>Ronaldo Camará</td>\n",
              "      <td>Attacking Midfield</td>\n",
              "      <td>18</td>\n",
              "      <td>0.585</td>\n",
              "    </tr>\n",
              "  </tbody>\n",
              "</table>\n",
              "</div>"
            ],
            "text/plain": [
              "                    Name      Field Position Age  Market Value (Millions)\n",
              "3879   Ronaldo Conceição         Centre-Back  34                    0.360\n",
              "9150      Ronaldo Vieira    Central Midfield  22                    4.500\n",
              "2504   Cristiano Ronaldo      Centre-Forward  36                   40.500\n",
              "12241     Ronaldo Kwateh        Right Winger  16                    0.045\n",
              "4996       Ronaldo Alves         Centre-Back  32                    0.495\n",
              "11573     Ronaldo Camará  Attacking Midfield  18                    0.585"
            ]
          },
          "metadata": {
            "tags": []
          },
          "execution_count": 282
        }
      ]
    },
    {
      "cell_type": "code",
      "metadata": {
        "id": "2jecS2V-SDwJ"
      },
      "source": [
        "df.to_csv(\"players_data.csv\")"
      ],
      "execution_count": 283,
      "outputs": []
    },
    {
      "cell_type": "code",
      "metadata": {
        "colab": {
          "base_uri": "https://localhost:8080/",
          "height": 17
        },
        "id": "j19Mu-67-ORY",
        "outputId": "92464aa6-4f7a-4507-80d6-049755cd1d3c"
      },
      "source": [
        "from google.colab import files\n",
        "files.download(\"players_data.csv\")"
      ],
      "execution_count": 284,
      "outputs": [
        {
          "output_type": "display_data",
          "data": {
            "application/javascript": [
              "\n",
              "    async function download(id, filename, size) {\n",
              "      if (!google.colab.kernel.accessAllowed) {\n",
              "        return;\n",
              "      }\n",
              "      const div = document.createElement('div');\n",
              "      const label = document.createElement('label');\n",
              "      label.textContent = `Downloading \"${filename}\": `;\n",
              "      div.appendChild(label);\n",
              "      const progress = document.createElement('progress');\n",
              "      progress.max = size;\n",
              "      div.appendChild(progress);\n",
              "      document.body.appendChild(div);\n",
              "\n",
              "      const buffers = [];\n",
              "      let downloaded = 0;\n",
              "\n",
              "      const channel = await google.colab.kernel.comms.open(id);\n",
              "      // Send a message to notify the kernel that we're ready.\n",
              "      channel.send({})\n",
              "\n",
              "      for await (const message of channel.messages) {\n",
              "        // Send a message to notify the kernel that we're ready.\n",
              "        channel.send({})\n",
              "        if (message.buffers) {\n",
              "          for (const buffer of message.buffers) {\n",
              "            buffers.push(buffer);\n",
              "            downloaded += buffer.byteLength;\n",
              "            progress.value = downloaded;\n",
              "          }\n",
              "        }\n",
              "      }\n",
              "      const blob = new Blob(buffers, {type: 'application/binary'});\n",
              "      const a = document.createElement('a');\n",
              "      a.href = window.URL.createObjectURL(blob);\n",
              "      a.download = filename;\n",
              "      div.appendChild(a);\n",
              "      a.click();\n",
              "      div.remove();\n",
              "    }\n",
              "  "
            ],
            "text/plain": [
              "<IPython.core.display.Javascript object>"
            ]
          },
          "metadata": {
            "tags": []
          }
        },
        {
          "output_type": "display_data",
          "data": {
            "application/javascript": [
              "download(\"download_41669412-1318-439d-b7de-7ee48402fdf4\", \"players_data.csv\", 538436)"
            ],
            "text/plain": [
              "<IPython.core.display.Javascript object>"
            ]
          },
          "metadata": {
            "tags": []
          }
        }
      ]
    },
    {
      "cell_type": "code",
      "metadata": {
        "id": "xbo-FyHzBwys"
      },
      "source": [
        ""
      ],
      "execution_count": null,
      "outputs": []
    },
    {
      "cell_type": "code",
      "metadata": {
        "id": "WYGvr9nHBw1H"
      },
      "source": [
        ""
      ],
      "execution_count": null,
      "outputs": []
    },
    {
      "cell_type": "code",
      "metadata": {
        "id": "oq69RoCxBw3n"
      },
      "source": [
        ""
      ],
      "execution_count": null,
      "outputs": []
    },
    {
      "cell_type": "code",
      "metadata": {
        "id": "At7VRJYfBw6p"
      },
      "source": [
        ""
      ],
      "execution_count": null,
      "outputs": []
    },
    {
      "cell_type": "code",
      "metadata": {
        "id": "E2afUyjaBw9c"
      },
      "source": [
        ""
      ],
      "execution_count": null,
      "outputs": []
    },
    {
      "cell_type": "code",
      "metadata": {
        "id": "apDFyTVdBxAT"
      },
      "source": [
        ""
      ],
      "execution_count": null,
      "outputs": []
    },
    {
      "cell_type": "code",
      "metadata": {
        "id": "KXCCYUX8BxDH"
      },
      "source": [
        ""
      ],
      "execution_count": null,
      "outputs": []
    },
    {
      "cell_type": "code",
      "metadata": {
        "id": "91UxWvC6BxFz"
      },
      "source": [
        ""
      ],
      "execution_count": null,
      "outputs": []
    },
    {
      "cell_type": "code",
      "metadata": {
        "id": "XKArRSW2BxIc"
      },
      "source": [
        ""
      ],
      "execution_count": null,
      "outputs": []
    },
    {
      "cell_type": "code",
      "metadata": {
        "id": "MnE7msRuBxLU"
      },
      "source": [
        ""
      ],
      "execution_count": null,
      "outputs": []
    },
    {
      "cell_type": "code",
      "metadata": {
        "id": "kDOSaDJ9BxNr"
      },
      "source": [
        ""
      ],
      "execution_count": null,
      "outputs": []
    },
    {
      "cell_type": "code",
      "metadata": {
        "id": "ichPpiIPBxQV"
      },
      "source": [
        ""
      ],
      "execution_count": null,
      "outputs": []
    }
  ]
}