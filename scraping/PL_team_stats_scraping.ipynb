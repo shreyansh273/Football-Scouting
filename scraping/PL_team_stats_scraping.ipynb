{
  "nbformat": 4,
  "nbformat_minor": 0,
  "metadata": {
    "colab": {
      "name": "PL team stats scraping.ipynb",
      "provenance": [],
      "collapsed_sections": [],
      "authorship_tag": "ABX9TyNCn/riiWh2HS1lLphZUtPS",
      "include_colab_link": true
    },
    "kernelspec": {
      "name": "python3",
      "display_name": "Python 3"
    },
    "language_info": {
      "name": "python"
    }
  },
  "cells": [
    {
      "cell_type": "markdown",
      "metadata": {
        "id": "view-in-github",
        "colab_type": "text"
      },
      "source": [
        "<a href=\"https://colab.research.google.com/github/shreyansh273/Football-Scouting/blob/main/PL_team_stats_scraping.ipynb\" target=\"_parent\"><img src=\"https://colab.research.google.com/assets/colab-badge.svg\" alt=\"Open In Colab\"/></a>"
      ]
    },
    {
      "cell_type": "code",
      "metadata": {
        "id": "I1vp23TA5iG_"
      },
      "source": [
        "import requests\n",
        "from bs4 import BeautifulSoup\n",
        "import pandas as pd\n",
        "import numpy as np\n",
        "import re\n",
        "import sys, getopt\n",
        "import csv"
      ],
      "execution_count": 1,
      "outputs": []
    },
    {
      "cell_type": "code",
      "metadata": {
        "colab": {
          "base_uri": "https://localhost:8080/"
        },
        "id": "4c_Rt-OBFQCY",
        "outputId": "675f86a5-1ba2-4de3-d8f1-eddead7b1101"
      },
      "source": [
        "column_nanes = [\"squad\",\"number_of_players_used\",\"average_age\",\"possession\",\"matched_played\",\"starts\",\"minutes\",\"90s_played\",\"goals\",\"assists\",\"non_penalty_goals\",\"penalty_kicks_made\",\\\n",
        "                \"penalty_kicks_attempted\",\"yellow_cards\",\"red_cards\",\"goals_per90\",\"assists_per90\",\"goals+assists_per90\",\"non_penalty_goals_per90\",\"non_penalty_goals+assists_per90\",\n",
        "                \"exp_goals\",\"non_penalty_exp_goals\",\"exp_assists\",\"non_penalty_exp_goals+assists\",\"exp_goals_per90\",\"exp_assists_per90\",\"exp_goals+assists_per90\",\n",
        "                \"non_penalty_exp_goals_per90\",\"non_penalty_exp_goals+assists_per90\",\"season\",'type']\n",
        "len(column_nanes)"
      ],
      "execution_count": 86,
      "outputs": [
        {
          "output_type": "execute_result",
          "data": {
            "text/plain": [
              "31"
            ]
          },
          "metadata": {},
          "execution_count": 86
        }
      ]
    },
    {
      "cell_type": "code",
      "metadata": {
        "id": "vHklILxA5o_t"
      },
      "source": [
        "#scraping fbref website for Premire League team stats for multiple seasons\n",
        "start_year = range(2019,2022)\n",
        "end_year = range(2020,2023)\n",
        "season_key = [\"3232\",\"10728\",\"\"]\n",
        "pl_team_stats = pd.DataFrame()\n",
        "for i in range(3):\n",
        "  url = 'https://fbref.com/en/comps/9/'+season_key[i]+'/stats/'+str(start_year[i])+'-'+str(end_year[i])+'-Premier-League-Stats'\n",
        "  html_content = requests.get(url).text.replace('<!--', '').replace('-->', '')\n",
        "  df = pd.read_html(html_content)\n",
        "  df[0].columns = df[0].columns.droplevel(0) # drop top header row\n",
        "  df[0]['year'] = str(start_year[i])+'-'+str(end_year[i])\n",
        "  df[0]['type'] = \"for\"\n",
        "  df[0].columns = column_nanes\n",
        "  df[1].columns = df[1].columns.droplevel(1) # drop top header row\n",
        "  df[1]['year'] = str(start_year[i])+'-'+str(end_year[i]) \n",
        "  df[1]['type'] = \"against\"\n",
        "  df[1].columns = column_nanes\n",
        "  df[1]['squad'] = df[0]['squad']\n",
        "  pl_team_stats = pd.concat([pl_team_stats,df[0],df[1]],ignore_index=True)"
      ],
      "execution_count": 88,
      "outputs": []
    },
    {
      "cell_type": "code",
      "metadata": {
        "colab": {
          "base_uri": "https://localhost:8080/",
          "height": 352
        },
        "id": "z-DZ8GqcDKWn",
        "outputId": "03e0893f-7769-4497-8d5f-502662c8455b"
      },
      "source": [
        "pl_team_stats.loc[pl_team_stats[\"squad\"].str.contains(\"Newcastle Utd\")]"
      ],
      "execution_count": 89,
      "outputs": [
        {
          "output_type": "execute_result",
          "data": {
            "text/html": [
              "<div>\n",
              "<style scoped>\n",
              "    .dataframe tbody tr th:only-of-type {\n",
              "        vertical-align: middle;\n",
              "    }\n",
              "\n",
              "    .dataframe tbody tr th {\n",
              "        vertical-align: top;\n",
              "    }\n",
              "\n",
              "    .dataframe thead th {\n",
              "        text-align: right;\n",
              "    }\n",
              "</style>\n",
              "<table border=\"1\" class=\"dataframe\">\n",
              "  <thead>\n",
              "    <tr style=\"text-align: right;\">\n",
              "      <th></th>\n",
              "      <th>squad</th>\n",
              "      <th>number_of_players_used</th>\n",
              "      <th>average_age</th>\n",
              "      <th>possession</th>\n",
              "      <th>matched_played</th>\n",
              "      <th>starts</th>\n",
              "      <th>minutes</th>\n",
              "      <th>90s_played</th>\n",
              "      <th>goals</th>\n",
              "      <th>assists</th>\n",
              "      <th>non_penalty_goals</th>\n",
              "      <th>penalty_kicks_made</th>\n",
              "      <th>penalty_kicks_attempted</th>\n",
              "      <th>yellow_cards</th>\n",
              "      <th>red_cards</th>\n",
              "      <th>goals_per90</th>\n",
              "      <th>assists_per90</th>\n",
              "      <th>goals+assists_per90</th>\n",
              "      <th>non_penalty_goals_per90</th>\n",
              "      <th>non_penalty_goals+assists_per90</th>\n",
              "      <th>exp_goals</th>\n",
              "      <th>non_penalty_exp_goals</th>\n",
              "      <th>exp_assists</th>\n",
              "      <th>non_penalty_exp_goals+assists</th>\n",
              "      <th>exp_goals_per90</th>\n",
              "      <th>exp_assists_per90</th>\n",
              "      <th>exp_goals+assists_per90</th>\n",
              "      <th>non_penalty_exp_goals_per90</th>\n",
              "      <th>non_penalty_exp_goals+assists_per90</th>\n",
              "      <th>season</th>\n",
              "      <th>type</th>\n",
              "    </tr>\n",
              "  </thead>\n",
              "  <tbody>\n",
              "    <tr>\n",
              "      <th>12</th>\n",
              "      <td>Newcastle Utd</td>\n",
              "      <td>28</td>\n",
              "      <td>26.5</td>\n",
              "      <td>38.6</td>\n",
              "      <td>38</td>\n",
              "      <td>418</td>\n",
              "      <td>3420</td>\n",
              "      <td>38.0</td>\n",
              "      <td>38</td>\n",
              "      <td>29</td>\n",
              "      <td>38</td>\n",
              "      <td>0</td>\n",
              "      <td>1</td>\n",
              "      <td>66</td>\n",
              "      <td>3</td>\n",
              "      <td>1.00</td>\n",
              "      <td>0.76</td>\n",
              "      <td>1.76</td>\n",
              "      <td>1.00</td>\n",
              "      <td>1.76</td>\n",
              "      <td>33.1</td>\n",
              "      <td>32.3</td>\n",
              "      <td>23.2</td>\n",
              "      <td>55.6</td>\n",
              "      <td>0.87</td>\n",
              "      <td>0.61</td>\n",
              "      <td>1.48</td>\n",
              "      <td>0.85</td>\n",
              "      <td>1.46</td>\n",
              "      <td>2019-2020</td>\n",
              "      <td>for</td>\n",
              "    </tr>\n",
              "    <tr>\n",
              "      <th>32</th>\n",
              "      <td>Newcastle Utd</td>\n",
              "      <td>28</td>\n",
              "      <td>26.5</td>\n",
              "      <td>61.4</td>\n",
              "      <td>38</td>\n",
              "      <td>418</td>\n",
              "      <td>3420</td>\n",
              "      <td>38.0</td>\n",
              "      <td>56</td>\n",
              "      <td>38</td>\n",
              "      <td>54</td>\n",
              "      <td>2</td>\n",
              "      <td>2</td>\n",
              "      <td>57</td>\n",
              "      <td>2</td>\n",
              "      <td>1.47</td>\n",
              "      <td>1.00</td>\n",
              "      <td>2.47</td>\n",
              "      <td>1.42</td>\n",
              "      <td>2.42</td>\n",
              "      <td>58.3</td>\n",
              "      <td>56.8</td>\n",
              "      <td>39.8</td>\n",
              "      <td>96.7</td>\n",
              "      <td>1.53</td>\n",
              "      <td>1.05</td>\n",
              "      <td>2.58</td>\n",
              "      <td>1.49</td>\n",
              "      <td>2.54</td>\n",
              "      <td>2019-2020</td>\n",
              "      <td>against</td>\n",
              "    </tr>\n",
              "    <tr>\n",
              "      <th>53</th>\n",
              "      <td>Newcastle Utd</td>\n",
              "      <td>27</td>\n",
              "      <td>27.1</td>\n",
              "      <td>38.2</td>\n",
              "      <td>38</td>\n",
              "      <td>418</td>\n",
              "      <td>3420</td>\n",
              "      <td>38.0</td>\n",
              "      <td>44</td>\n",
              "      <td>26</td>\n",
              "      <td>38</td>\n",
              "      <td>6</td>\n",
              "      <td>7</td>\n",
              "      <td>65</td>\n",
              "      <td>3</td>\n",
              "      <td>1.16</td>\n",
              "      <td>0.68</td>\n",
              "      <td>1.84</td>\n",
              "      <td>1.00</td>\n",
              "      <td>1.68</td>\n",
              "      <td>41.0</td>\n",
              "      <td>35.5</td>\n",
              "      <td>26.1</td>\n",
              "      <td>61.6</td>\n",
              "      <td>1.08</td>\n",
              "      <td>0.69</td>\n",
              "      <td>1.77</td>\n",
              "      <td>0.93</td>\n",
              "      <td>1.62</td>\n",
              "      <td>2020-2021</td>\n",
              "      <td>for</td>\n",
              "    </tr>\n",
              "    <tr>\n",
              "      <th>73</th>\n",
              "      <td>Newcastle Utd</td>\n",
              "      <td>27</td>\n",
              "      <td>26.6</td>\n",
              "      <td>61.8</td>\n",
              "      <td>38</td>\n",
              "      <td>418</td>\n",
              "      <td>3420</td>\n",
              "      <td>38.0</td>\n",
              "      <td>59</td>\n",
              "      <td>41</td>\n",
              "      <td>55</td>\n",
              "      <td>4</td>\n",
              "      <td>5</td>\n",
              "      <td>60</td>\n",
              "      <td>3</td>\n",
              "      <td>1.55</td>\n",
              "      <td>1.08</td>\n",
              "      <td>2.63</td>\n",
              "      <td>1.45</td>\n",
              "      <td>2.53</td>\n",
              "      <td>54.0</td>\n",
              "      <td>50.2</td>\n",
              "      <td>37.9</td>\n",
              "      <td>88.1</td>\n",
              "      <td>1.42</td>\n",
              "      <td>1.00</td>\n",
              "      <td>2.42</td>\n",
              "      <td>1.32</td>\n",
              "      <td>2.32</td>\n",
              "      <td>2020-2021</td>\n",
              "      <td>against</td>\n",
              "    </tr>\n",
              "    <tr>\n",
              "      <th>93</th>\n",
              "      <td>Newcastle Utd</td>\n",
              "      <td>22</td>\n",
              "      <td>27.6</td>\n",
              "      <td>43.1</td>\n",
              "      <td>7</td>\n",
              "      <td>77</td>\n",
              "      <td>630</td>\n",
              "      <td>7.0</td>\n",
              "      <td>8</td>\n",
              "      <td>7</td>\n",
              "      <td>8</td>\n",
              "      <td>0</td>\n",
              "      <td>0</td>\n",
              "      <td>15</td>\n",
              "      <td>0</td>\n",
              "      <td>1.14</td>\n",
              "      <td>1.00</td>\n",
              "      <td>2.14</td>\n",
              "      <td>1.14</td>\n",
              "      <td>2.14</td>\n",
              "      <td>8.8</td>\n",
              "      <td>8.8</td>\n",
              "      <td>6.5</td>\n",
              "      <td>15.3</td>\n",
              "      <td>1.25</td>\n",
              "      <td>0.93</td>\n",
              "      <td>2.19</td>\n",
              "      <td>1.25</td>\n",
              "      <td>2.19</td>\n",
              "      <td>2021-2022</td>\n",
              "      <td>for</td>\n",
              "    </tr>\n",
              "    <tr>\n",
              "      <th>113</th>\n",
              "      <td>Newcastle Utd</td>\n",
              "      <td>22</td>\n",
              "      <td>27.8</td>\n",
              "      <td>56.9</td>\n",
              "      <td>7</td>\n",
              "      <td>77</td>\n",
              "      <td>630</td>\n",
              "      <td>7.0</td>\n",
              "      <td>16</td>\n",
              "      <td>11</td>\n",
              "      <td>14</td>\n",
              "      <td>2</td>\n",
              "      <td>3</td>\n",
              "      <td>13</td>\n",
              "      <td>0</td>\n",
              "      <td>2.29</td>\n",
              "      <td>1.57</td>\n",
              "      <td>3.86</td>\n",
              "      <td>2.00</td>\n",
              "      <td>3.57</td>\n",
              "      <td>13.3</td>\n",
              "      <td>11.6</td>\n",
              "      <td>9.3</td>\n",
              "      <td>20.9</td>\n",
              "      <td>1.90</td>\n",
              "      <td>1.33</td>\n",
              "      <td>3.23</td>\n",
              "      <td>1.66</td>\n",
              "      <td>2.99</td>\n",
              "      <td>2021-2022</td>\n",
              "      <td>against</td>\n",
              "    </tr>\n",
              "  </tbody>\n",
              "</table>\n",
              "</div>"
            ],
            "text/plain": [
              "             squad  number_of_players_used  ...     season     type\n",
              "12   Newcastle Utd                      28  ...  2019-2020      for\n",
              "32   Newcastle Utd                      28  ...  2019-2020  against\n",
              "53   Newcastle Utd                      27  ...  2020-2021      for\n",
              "73   Newcastle Utd                      27  ...  2020-2021  against\n",
              "93   Newcastle Utd                      22  ...  2021-2022      for\n",
              "113  Newcastle Utd                      22  ...  2021-2022  against\n",
              "\n",
              "[6 rows x 31 columns]"
            ]
          },
          "metadata": {},
          "execution_count": 89
        }
      ]
    },
    {
      "cell_type": "code",
      "metadata": {
        "id": "akXZQHEQ5pE3"
      },
      "source": [
        "#exporting the file\n",
        "pl_team_stats.to_csv(\"pl_team_stats.csv\")"
      ],
      "execution_count": 59,
      "outputs": []
    },
    {
      "cell_type": "code",
      "metadata": {
        "colab": {
          "base_uri": "https://localhost:8080/",
          "height": 17
        },
        "id": "ym6bKVrk5pHi",
        "outputId": "83125a10-4471-42a2-fab0-863aa8eb1c53"
      },
      "source": [
        "from google.colab import files\n",
        "files.download(\"pl_team_stats.csv\")"
      ],
      "execution_count": 60,
      "outputs": [
        {
          "output_type": "display_data",
          "data": {
            "application/javascript": [
              "\n",
              "    async function download(id, filename, size) {\n",
              "      if (!google.colab.kernel.accessAllowed) {\n",
              "        return;\n",
              "      }\n",
              "      const div = document.createElement('div');\n",
              "      const label = document.createElement('label');\n",
              "      label.textContent = `Downloading \"${filename}\": `;\n",
              "      div.appendChild(label);\n",
              "      const progress = document.createElement('progress');\n",
              "      progress.max = size;\n",
              "      div.appendChild(progress);\n",
              "      document.body.appendChild(div);\n",
              "\n",
              "      const buffers = [];\n",
              "      let downloaded = 0;\n",
              "\n",
              "      const channel = await google.colab.kernel.comms.open(id);\n",
              "      // Send a message to notify the kernel that we're ready.\n",
              "      channel.send({})\n",
              "\n",
              "      for await (const message of channel.messages) {\n",
              "        // Send a message to notify the kernel that we're ready.\n",
              "        channel.send({})\n",
              "        if (message.buffers) {\n",
              "          for (const buffer of message.buffers) {\n",
              "            buffers.push(buffer);\n",
              "            downloaded += buffer.byteLength;\n",
              "            progress.value = downloaded;\n",
              "          }\n",
              "        }\n",
              "      }\n",
              "      const blob = new Blob(buffers, {type: 'application/binary'});\n",
              "      const a = document.createElement('a');\n",
              "      a.href = window.URL.createObjectURL(blob);\n",
              "      a.download = filename;\n",
              "      div.appendChild(a);\n",
              "      a.click();\n",
              "      div.remove();\n",
              "    }\n",
              "  "
            ],
            "text/plain": [
              "<IPython.core.display.Javascript object>"
            ]
          },
          "metadata": {}
        },
        {
          "output_type": "display_data",
          "data": {
            "application/javascript": [
              "download(\"download_cf660d82-750c-4798-b7b4-28c612fdf2d0\", \"pl_team_stats.csv\", 8803)"
            ],
            "text/plain": [
              "<IPython.core.display.Javascript object>"
            ]
          },
          "metadata": {}
        }
      ]
    },
    {
      "cell_type": "code",
      "metadata": {
        "colab": {
          "base_uri": "https://localhost:8080/"
        },
        "id": "3BbCeknOPQBn",
        "outputId": "cd0ef1c0-aabd-41e8-c92e-c9be5fe2ba14"
      },
      "source": [
        "len(df[1].columns)"
      ],
      "execution_count": 69,
      "outputs": [
        {
          "output_type": "execute_result",
          "data": {
            "text/plain": [
              "29"
            ]
          },
          "metadata": {},
          "execution_count": 69
        }
      ]
    },
    {
      "cell_type": "code",
      "metadata": {
        "id": "wzj9AY2E5pKS"
      },
      "source": [
        ""
      ],
      "execution_count": null,
      "outputs": []
    },
    {
      "cell_type": "code",
      "metadata": {
        "id": "MdYu8d-S5pNC"
      },
      "source": [
        ""
      ],
      "execution_count": null,
      "outputs": []
    },
    {
      "cell_type": "code",
      "metadata": {
        "id": "TkpsJOwT5pPq"
      },
      "source": [
        ""
      ],
      "execution_count": null,
      "outputs": []
    }
  ]
}