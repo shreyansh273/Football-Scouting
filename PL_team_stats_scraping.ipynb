{
  "nbformat": 4,
  "nbformat_minor": 0,
  "metadata": {
    "colab": {
      "name": "PL team stats scraping.ipynb",
      "provenance": [],
      "authorship_tag": "ABX9TyPWxongcZN2cVZfeH5zdiQB",
      "include_colab_link": true
    },
    "kernelspec": {
      "name": "python3",
      "display_name": "Python 3"
    },
    "language_info": {
      "name": "python"
    }
  },
  "cells": [
    {
      "cell_type": "markdown",
      "metadata": {
        "id": "view-in-github",
        "colab_type": "text"
      },
      "source": [
        "<a href=\"https://colab.research.google.com/github/shreyansh273/Football-Scouting/blob/main/PL_team_stats_scraping.ipynb\" target=\"_parent\"><img src=\"https://colab.research.google.com/assets/colab-badge.svg\" alt=\"Open In Colab\"/></a>"
      ]
    },
    {
      "cell_type": "code",
      "metadata": {
        "id": "I1vp23TA5iG_"
      },
      "source": [
        "import requests\n",
        "from bs4 import BeautifulSoup\n",
        "import pandas as pd\n",
        "import numpy as np\n",
        "import re\n",
        "import sys, getopt\n",
        "import csv"
      ],
      "execution_count": 1,
      "outputs": []
    },
    {
      "cell_type": "code",
      "metadata": {
        "id": "zoS6lppr5o6i"
      },
      "source": [
        "all_data = []\n",
        "for i in range(1966,2006):\n",
        "  for j in range(1,21):\n",
        "    url = \"https://www.transfermarkt.co.uk/spieler-statistik/wertvollstespieler/marktwertetop/plus/ajax/yw1/ausrichtung/alle/spielerposition_id/alle/altersklasse/alle/jahrgang/\"+str(i)+\"/land_id/0/kontinent_id/0/yt0/Show/0//page/\"+str(j)\n",
        "    heads = {'User-Agent' : 'Mozilla/5.0 (Windows NT 6.1; Win64; x64) AppleWebKit/537.36 (KHTML, like Gecko) Chrome/70.0.3538.110 Safari/537.36'}\n",
        "    html = requests.get(url, headers=heads).content\n",
        "    soup = BeautifulSoup(html, \"html.parser\")\n",
        "    table = soup.find(\"table\", class_=\"items\")\n",
        "    if table:\n",
        "      table_rows = table.find_all(\"tr\", {\"class\": [\"odd\", \"even\"]})\n",
        "      k=0\n",
        "      for tr in table_rows:\n",
        "        td = tr.find_all('td')\n",
        "        name = tr.find_all(\"td\")[3].text\n",
        "        field_position = tr.find_all(\"td\")[4].text\n",
        "        age = tr.find_all(\"td\")[5].text\n",
        "        mv = tr.find_all(\"td\")[8].text\n",
        "        data = {'Name': name, 'Field Position': field_position, 'Age': age, 'Market Value (Million)': mv}\n",
        "        all_data.append(data)\n",
        "        k=k+1\n",
        "      if k < 20:\n",
        "        break\n",
        "    else:\n",
        "      break"
      ],
      "execution_count": null,
      "outputs": []
    },
    {
      "cell_type": "code",
      "metadata": {
        "id": "YtJVPkC75o9D"
      },
      "source": [
        ""
      ],
      "execution_count": null,
      "outputs": []
    },
    {
      "cell_type": "code",
      "metadata": {
        "id": "vHklILxA5o_t"
      },
      "source": [
        ""
      ],
      "execution_count": null,
      "outputs": []
    },
    {
      "cell_type": "code",
      "metadata": {
        "id": "aIsPoHO_5pCc"
      },
      "source": [
        ""
      ],
      "execution_count": null,
      "outputs": []
    },
    {
      "cell_type": "code",
      "metadata": {
        "id": "akXZQHEQ5pE3"
      },
      "source": [
        ""
      ],
      "execution_count": null,
      "outputs": []
    },
    {
      "cell_type": "code",
      "metadata": {
        "id": "ym6bKVrk5pHi"
      },
      "source": [
        ""
      ],
      "execution_count": null,
      "outputs": []
    },
    {
      "cell_type": "code",
      "metadata": {
        "id": "wzj9AY2E5pKS"
      },
      "source": [
        ""
      ],
      "execution_count": null,
      "outputs": []
    },
    {
      "cell_type": "code",
      "metadata": {
        "id": "MdYu8d-S5pNC"
      },
      "source": [
        ""
      ],
      "execution_count": null,
      "outputs": []
    },
    {
      "cell_type": "code",
      "metadata": {
        "id": "TkpsJOwT5pPq"
      },
      "source": [
        ""
      ],
      "execution_count": null,
      "outputs": []
    }
  ]
}