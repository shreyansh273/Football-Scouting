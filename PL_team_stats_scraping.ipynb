{
  "nbformat": 4,
  "nbformat_minor": 0,
  "metadata": {
    "colab": {
      "name": "PL team stats scraping.ipynb",
      "provenance": [],
      "collapsed_sections": [],
      "authorship_tag": "ABX9TyPXyDpfoEdqBGUnKp8T0Gpv",
      "include_colab_link": true
    },
    "kernelspec": {
      "name": "python3",
      "display_name": "Python 3"
    },
    "language_info": {
      "name": "python"
    }
  },
  "cells": [
    {
      "cell_type": "markdown",
      "metadata": {
        "id": "view-in-github",
        "colab_type": "text"
      },
      "source": [
        "<a href=\"https://colab.research.google.com/github/shreyansh273/Football-Scouting/blob/main/PL_team_stats_scraping.ipynb\" target=\"_parent\"><img src=\"https://colab.research.google.com/assets/colab-badge.svg\" alt=\"Open In Colab\"/></a>"
      ]
    },
    {
      "cell_type": "code",
      "metadata": {
        "id": "I1vp23TA5iG_"
      },
      "source": [
        "import requests\n",
        "from bs4 import BeautifulSoup\n",
        "import pandas as pd\n",
        "import numpy as np\n",
        "import re\n",
        "import sys, getopt\n",
        "import csv"
      ],
      "execution_count": 1,
      "outputs": []
    },
    {
      "cell_type": "code",
      "metadata": {
        "colab": {
          "base_uri": "https://localhost:8080/"
        },
        "id": "4c_Rt-OBFQCY",
        "outputId": "089e53d5-289a-4043-ad09-dbd84cc2a972"
      },
      "source": [
        "column_nanes = [\"squad\",\"number_of_players_used\",\"average_age\",\"possession\",\"matched_played\",\"starts\",\"minutes\",\"90s_played\",\"goals\",\"assists\",\"non_penalty_goals\",\"penalty_kicks_made\",\\\n",
        "                \"penalty_kicks_attempted\",\"yellow_cards\",\"red_cards\",\"goals_per90\",\"assists_per90\",\"goals+assists_per90\",\"non_penalty_goals_per90\",\"non_penalty_goals+assists_per90\",\n",
        "                \"exp_goals\",\"non_penalty_exp_goals\",\"exp_assists\",\"non_penalty_exp_goals+assists\",\"exp_goals_per90\",\"exp_assists_per90\",\"exp_goals+assists_per90\",\n",
        "                \"non_penalty_exp_goals\",\"non_penalty_exp_goals+assists\",\"season\"]\n",
        "len(column_nanes)"
      ],
      "execution_count": 39,
      "outputs": [
        {
          "output_type": "execute_result",
          "data": {
            "text/plain": [
              "30"
            ]
          },
          "metadata": {},
          "execution_count": 39
        }
      ]
    },
    {
      "cell_type": "code",
      "metadata": {
        "id": "vHklILxA5o_t"
      },
      "source": [
        "#scraping fbref website for Premire League team stats for multiple seasons\n",
        "start_year = range(2019,2022)\n",
        "end_year = range(2020,2023)\n",
        "pl_team_stats = pd.DataFrame()\n",
        "for i in range(3):\n",
        "  url = 'https://fbref.com/en/comps/9/10728/stats/'+str(start_year[i])+'-'+str(end_year[i])+'-Premier-League-Stats'\n",
        "  html_content = requests.get(url).text.replace('<!--', '').replace('-->', '')\n",
        "  df = pd.read_html(html_content)\n",
        "  df[0].columns = df[0].columns.droplevel(0) # drop top header row\n",
        "  df[0]['year'] = str(start_year[i])+'-'+str(end_year[i]) \n",
        "  pl_team_stats = pd.concat([pl_team_stats,df[0]],ignore_index=True)"
      ],
      "execution_count": 41,
      "outputs": []
    },
    {
      "cell_type": "code",
      "metadata": {
        "colab": {
          "base_uri": "https://localhost:8080/",
          "height": 305
        },
        "id": "z-DZ8GqcDKWn",
        "outputId": "bc44c0e6-dc78-41a9-e216-eb514281d2d5"
      },
      "source": [
        "pl_team_stats.columns = column_nanes\n",
        "pl_team_stats.head()"
      ],
      "execution_count": 42,
      "outputs": [
        {
          "output_type": "execute_result",
          "data": {
            "text/html": [
              "<div>\n",
              "<style scoped>\n",
              "    .dataframe tbody tr th:only-of-type {\n",
              "        vertical-align: middle;\n",
              "    }\n",
              "\n",
              "    .dataframe tbody tr th {\n",
              "        vertical-align: top;\n",
              "    }\n",
              "\n",
              "    .dataframe thead th {\n",
              "        text-align: right;\n",
              "    }\n",
              "</style>\n",
              "<table border=\"1\" class=\"dataframe\">\n",
              "  <thead>\n",
              "    <tr style=\"text-align: right;\">\n",
              "      <th></th>\n",
              "      <th>squad</th>\n",
              "      <th>number_of_players_used</th>\n",
              "      <th>average_age</th>\n",
              "      <th>possession</th>\n",
              "      <th>matched_played</th>\n",
              "      <th>starts</th>\n",
              "      <th>minutes</th>\n",
              "      <th>90s_played</th>\n",
              "      <th>goals</th>\n",
              "      <th>assists</th>\n",
              "      <th>non_penalty_goals</th>\n",
              "      <th>penalty_kicks_made</th>\n",
              "      <th>penalty_kicks_attempted</th>\n",
              "      <th>yellow_cards</th>\n",
              "      <th>red_cards</th>\n",
              "      <th>goals_per90</th>\n",
              "      <th>assists_per90</th>\n",
              "      <th>goals+assists_per90</th>\n",
              "      <th>non_penalty_goals_per90</th>\n",
              "      <th>non_penalty_goals+assists_per90</th>\n",
              "      <th>exp_goals</th>\n",
              "      <th>non_penalty_exp_goals</th>\n",
              "      <th>exp_assists</th>\n",
              "      <th>non_penalty_exp_goals+assists</th>\n",
              "      <th>exp_goals_per90</th>\n",
              "      <th>exp_assists_per90</th>\n",
              "      <th>exp_goals+assists_per90</th>\n",
              "      <th>non_penalty_exp_goals</th>\n",
              "      <th>non_penalty_exp_goals+assists</th>\n",
              "      <th>season</th>\n",
              "    </tr>\n",
              "  </thead>\n",
              "  <tbody>\n",
              "    <tr>\n",
              "      <th>0</th>\n",
              "      <td>Arsenal</td>\n",
              "      <td>29</td>\n",
              "      <td>25.9</td>\n",
              "      <td>53.8</td>\n",
              "      <td>38</td>\n",
              "      <td>418</td>\n",
              "      <td>3420</td>\n",
              "      <td>38.0</td>\n",
              "      <td>53</td>\n",
              "      <td>38</td>\n",
              "      <td>47</td>\n",
              "      <td>6</td>\n",
              "      <td>6</td>\n",
              "      <td>49</td>\n",
              "      <td>5</td>\n",
              "      <td>1.39</td>\n",
              "      <td>1.00</td>\n",
              "      <td>2.39</td>\n",
              "      <td>1.24</td>\n",
              "      <td>2.24</td>\n",
              "      <td>53.5</td>\n",
              "      <td>49.0</td>\n",
              "      <td>36.6</td>\n",
              "      <td>85.5</td>\n",
              "      <td>1.41</td>\n",
              "      <td>0.96</td>\n",
              "      <td>2.37</td>\n",
              "      <td>1.29</td>\n",
              "      <td>2.25</td>\n",
              "      <td>2019-2020</td>\n",
              "    </tr>\n",
              "    <tr>\n",
              "      <th>1</th>\n",
              "      <td>Aston Villa</td>\n",
              "      <td>24</td>\n",
              "      <td>25.2</td>\n",
              "      <td>48.1</td>\n",
              "      <td>38</td>\n",
              "      <td>418</td>\n",
              "      <td>3420</td>\n",
              "      <td>38.0</td>\n",
              "      <td>52</td>\n",
              "      <td>38</td>\n",
              "      <td>47</td>\n",
              "      <td>5</td>\n",
              "      <td>6</td>\n",
              "      <td>71</td>\n",
              "      <td>4</td>\n",
              "      <td>1.37</td>\n",
              "      <td>1.00</td>\n",
              "      <td>2.37</td>\n",
              "      <td>1.24</td>\n",
              "      <td>2.24</td>\n",
              "      <td>52.9</td>\n",
              "      <td>48.5</td>\n",
              "      <td>37.1</td>\n",
              "      <td>85.6</td>\n",
              "      <td>1.39</td>\n",
              "      <td>0.98</td>\n",
              "      <td>2.37</td>\n",
              "      <td>1.28</td>\n",
              "      <td>2.25</td>\n",
              "      <td>2019-2020</td>\n",
              "    </tr>\n",
              "    <tr>\n",
              "      <th>2</th>\n",
              "      <td>Brighton</td>\n",
              "      <td>27</td>\n",
              "      <td>25.8</td>\n",
              "      <td>51.3</td>\n",
              "      <td>38</td>\n",
              "      <td>418</td>\n",
              "      <td>3420</td>\n",
              "      <td>38.0</td>\n",
              "      <td>39</td>\n",
              "      <td>24</td>\n",
              "      <td>33</td>\n",
              "      <td>6</td>\n",
              "      <td>9</td>\n",
              "      <td>49</td>\n",
              "      <td>6</td>\n",
              "      <td>1.03</td>\n",
              "      <td>0.63</td>\n",
              "      <td>1.66</td>\n",
              "      <td>0.87</td>\n",
              "      <td>1.50</td>\n",
              "      <td>51.6</td>\n",
              "      <td>44.8</td>\n",
              "      <td>33.0</td>\n",
              "      <td>77.8</td>\n",
              "      <td>1.36</td>\n",
              "      <td>0.87</td>\n",
              "      <td>2.23</td>\n",
              "      <td>1.18</td>\n",
              "      <td>2.05</td>\n",
              "      <td>2019-2020</td>\n",
              "    </tr>\n",
              "    <tr>\n",
              "      <th>3</th>\n",
              "      <td>Burnley</td>\n",
              "      <td>25</td>\n",
              "      <td>28.3</td>\n",
              "      <td>41.7</td>\n",
              "      <td>38</td>\n",
              "      <td>418</td>\n",
              "      <td>3420</td>\n",
              "      <td>38.0</td>\n",
              "      <td>32</td>\n",
              "      <td>20</td>\n",
              "      <td>29</td>\n",
              "      <td>3</td>\n",
              "      <td>3</td>\n",
              "      <td>48</td>\n",
              "      <td>0</td>\n",
              "      <td>0.84</td>\n",
              "      <td>0.53</td>\n",
              "      <td>1.37</td>\n",
              "      <td>0.76</td>\n",
              "      <td>1.29</td>\n",
              "      <td>39.9</td>\n",
              "      <td>37.6</td>\n",
              "      <td>27.1</td>\n",
              "      <td>64.8</td>\n",
              "      <td>1.05</td>\n",
              "      <td>0.71</td>\n",
              "      <td>1.76</td>\n",
              "      <td>0.99</td>\n",
              "      <td>1.70</td>\n",
              "      <td>2019-2020</td>\n",
              "    </tr>\n",
              "    <tr>\n",
              "      <th>4</th>\n",
              "      <td>Chelsea</td>\n",
              "      <td>27</td>\n",
              "      <td>26.0</td>\n",
              "      <td>61.4</td>\n",
              "      <td>38</td>\n",
              "      <td>418</td>\n",
              "      <td>3420</td>\n",
              "      <td>38.0</td>\n",
              "      <td>56</td>\n",
              "      <td>38</td>\n",
              "      <td>48</td>\n",
              "      <td>8</td>\n",
              "      <td>10</td>\n",
              "      <td>51</td>\n",
              "      <td>3</td>\n",
              "      <td>1.47</td>\n",
              "      <td>1.00</td>\n",
              "      <td>2.47</td>\n",
              "      <td>1.26</td>\n",
              "      <td>2.26</td>\n",
              "      <td>64.0</td>\n",
              "      <td>56.4</td>\n",
              "      <td>42.4</td>\n",
              "      <td>98.8</td>\n",
              "      <td>1.68</td>\n",
              "      <td>1.12</td>\n",
              "      <td>2.80</td>\n",
              "      <td>1.48</td>\n",
              "      <td>2.60</td>\n",
              "      <td>2019-2020</td>\n",
              "    </tr>\n",
              "  </tbody>\n",
              "</table>\n",
              "</div>"
            ],
            "text/plain": [
              "         squad  ...     season\n",
              "0      Arsenal  ...  2019-2020\n",
              "1  Aston Villa  ...  2019-2020\n",
              "2     Brighton  ...  2019-2020\n",
              "3      Burnley  ...  2019-2020\n",
              "4      Chelsea  ...  2019-2020\n",
              "\n",
              "[5 rows x 30 columns]"
            ]
          },
          "metadata": {},
          "execution_count": 42
        }
      ]
    },
    {
      "cell_type": "code",
      "metadata": {
        "id": "akXZQHEQ5pE3"
      },
      "source": [
        "#exporting the file\n",
        "pl_team_stats.to_csv(\"pl_team_stats.csv\")"
      ],
      "execution_count": 45,
      "outputs": []
    },
    {
      "cell_type": "code",
      "metadata": {
        "colab": {
          "base_uri": "https://localhost:8080/",
          "height": 17
        },
        "id": "ym6bKVrk5pHi",
        "outputId": "6d17cf50-c86b-45d2-80b6-357c629bfa15"
      },
      "source": [
        "from google.colab import files\n",
        "files.download(\"pl_team_stats.csv\")"
      ],
      "execution_count": 46,
      "outputs": [
        {
          "output_type": "display_data",
          "data": {
            "application/javascript": [
              "\n",
              "    async function download(id, filename, size) {\n",
              "      if (!google.colab.kernel.accessAllowed) {\n",
              "        return;\n",
              "      }\n",
              "      const div = document.createElement('div');\n",
              "      const label = document.createElement('label');\n",
              "      label.textContent = `Downloading \"${filename}\": `;\n",
              "      div.appendChild(label);\n",
              "      const progress = document.createElement('progress');\n",
              "      progress.max = size;\n",
              "      div.appendChild(progress);\n",
              "      document.body.appendChild(div);\n",
              "\n",
              "      const buffers = [];\n",
              "      let downloaded = 0;\n",
              "\n",
              "      const channel = await google.colab.kernel.comms.open(id);\n",
              "      // Send a message to notify the kernel that we're ready.\n",
              "      channel.send({})\n",
              "\n",
              "      for await (const message of channel.messages) {\n",
              "        // Send a message to notify the kernel that we're ready.\n",
              "        channel.send({})\n",
              "        if (message.buffers) {\n",
              "          for (const buffer of message.buffers) {\n",
              "            buffers.push(buffer);\n",
              "            downloaded += buffer.byteLength;\n",
              "            progress.value = downloaded;\n",
              "          }\n",
              "        }\n",
              "      }\n",
              "      const blob = new Blob(buffers, {type: 'application/binary'});\n",
              "      const a = document.createElement('a');\n",
              "      a.href = window.URL.createObjectURL(blob);\n",
              "      a.download = filename;\n",
              "      div.appendChild(a);\n",
              "      a.click();\n",
              "      div.remove();\n",
              "    }\n",
              "  "
            ],
            "text/plain": [
              "<IPython.core.display.Javascript object>"
            ]
          },
          "metadata": {}
        },
        {
          "output_type": "display_data",
          "data": {
            "application/javascript": [
              "download(\"download_36337110-a69b-4fdb-a19e-da62c0ee7fa2\", \"pl_team_stats.csv\", 8971)"
            ],
            "text/plain": [
              "<IPython.core.display.Javascript object>"
            ]
          },
          "metadata": {}
        }
      ]
    },
    {
      "cell_type": "code",
      "metadata": {
        "id": "wzj9AY2E5pKS"
      },
      "source": [
        ""
      ],
      "execution_count": null,
      "outputs": []
    },
    {
      "cell_type": "code",
      "metadata": {
        "id": "MdYu8d-S5pNC"
      },
      "source": [
        ""
      ],
      "execution_count": null,
      "outputs": []
    },
    {
      "cell_type": "code",
      "metadata": {
        "id": "TkpsJOwT5pPq"
      },
      "source": [
        ""
      ],
      "execution_count": null,
      "outputs": []
    }
  ]
}