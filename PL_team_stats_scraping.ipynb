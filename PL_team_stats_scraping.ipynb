{
  "nbformat": 4,
  "nbformat_minor": 0,
  "metadata": {
    "colab": {
      "name": "PL team stats scraping.ipynb",
      "provenance": [],
      "collapsed_sections": [],
      "authorship_tag": "ABX9TyOuVMNgFh8XTLyzXYRSOlWA",
      "include_colab_link": true
    },
    "kernelspec": {
      "name": "python3",
      "display_name": "Python 3"
    },
    "language_info": {
      "name": "python"
    }
  },
  "cells": [
    {
      "cell_type": "markdown",
      "metadata": {
        "id": "view-in-github",
        "colab_type": "text"
      },
      "source": [
        "<a href=\"https://colab.research.google.com/github/shreyansh273/Football-Scouting/blob/main/PL_team_stats_scraping.ipynb\" target=\"_parent\"><img src=\"https://colab.research.google.com/assets/colab-badge.svg\" alt=\"Open In Colab\"/></a>"
      ]
    },
    {
      "cell_type": "code",
      "metadata": {
        "id": "I1vp23TA5iG_"
      },
      "source": [
        "import requests\n",
        "from bs4 import BeautifulSoup\n",
        "import pandas as pd\n",
        "import numpy as np\n",
        "import re\n",
        "import sys, getopt\n",
        "import csv"
      ],
      "execution_count": 1,
      "outputs": []
    },
    {
      "cell_type": "code",
      "metadata": {
        "colab": {
          "base_uri": "https://localhost:8080/"
        },
        "id": "4c_Rt-OBFQCY",
        "outputId": "759b0e42-a75a-4d9d-db5c-7150921fd935"
      },
      "source": [
        "column_nanes = [\"squad\",\"number_of_players_used\",\"average_age\",\"possession\",\"matched_played\",\"starts\",\"minutes\",\"90s_played\",\"goals\",\"assists\",\"non_penalty_goals\",\"penalty_kicks_made\",\\\n",
        "                \"penalty_kicks_attempted\",\"yellow_cards\",\"red_cards\",\"goals_per90\",\"assists_per90\",\"goals+assists_per90\",\"non_penalty_goals_per90\",\"non_penalty_goals+assists_per90\",\n",
        "                \"exp_goals\",\"non_penalty_exp_goals\",\"exp_assists\",\"non_penalty_exp_goals+assists\",\"exp_goals_per90\",\"exp_assists_per90\",\"exp_goals+assists_per90\",\n",
        "                \"non_penalty_exp_goals_per90\",\"non_penalty_exp_goals+assists_per90\",\"season\"]\n",
        "len(column_nanes)"
      ],
      "execution_count": 53,
      "outputs": [
        {
          "output_type": "execute_result",
          "data": {
            "text/plain": [
              "30"
            ]
          },
          "metadata": {},
          "execution_count": 53
        }
      ]
    },
    {
      "cell_type": "code",
      "metadata": {
        "id": "vHklILxA5o_t"
      },
      "source": [
        "#scraping fbref website for Premire League team stats for multiple seasons\n",
        "start_year = range(2019,2022)\n",
        "end_year = range(2020,2023)\n",
        "season_key = [\"3232\",\"10728\",\"\"]\n",
        "pl_team_stats = pd.DataFrame()\n",
        "for i in range(3):\n",
        "  url = 'https://fbref.com/en/comps/9/'+season_key[i]+'/stats/'+str(start_year[i])+'-'+str(end_year[i])+'-Premier-League-Stats'\n",
        "  html_content = requests.get(url).text.replace('<!--', '').replace('-->', '')\n",
        "  df = pd.read_html(html_content)\n",
        "  df[0].columns = df[0].columns.droplevel(0) # drop top header row\n",
        "  df[0]['year'] = str(start_year[i])+'-'+str(end_year[i]) \n",
        "  pl_team_stats = pd.concat([pl_team_stats,df[0]],ignore_index=True)"
      ],
      "execution_count": 56,
      "outputs": []
    },
    {
      "cell_type": "code",
      "metadata": {
        "colab": {
          "base_uri": "https://localhost:8080/",
          "height": 211
        },
        "id": "z-DZ8GqcDKWn",
        "outputId": "acc53ffb-3178-438e-91c9-64fb8ce23b70"
      },
      "source": [
        "pl_team_stats.columns = column_nanes\n",
        "pl_team_stats.loc[pl_team_stats[\"squad\"]==\"Arsenal\"]"
      ],
      "execution_count": 58,
      "outputs": [
        {
          "output_type": "execute_result",
          "data": {
            "text/html": [
              "<div>\n",
              "<style scoped>\n",
              "    .dataframe tbody tr th:only-of-type {\n",
              "        vertical-align: middle;\n",
              "    }\n",
              "\n",
              "    .dataframe tbody tr th {\n",
              "        vertical-align: top;\n",
              "    }\n",
              "\n",
              "    .dataframe thead th {\n",
              "        text-align: right;\n",
              "    }\n",
              "</style>\n",
              "<table border=\"1\" class=\"dataframe\">\n",
              "  <thead>\n",
              "    <tr style=\"text-align: right;\">\n",
              "      <th></th>\n",
              "      <th>squad</th>\n",
              "      <th>number_of_players_used</th>\n",
              "      <th>average_age</th>\n",
              "      <th>possession</th>\n",
              "      <th>matched_played</th>\n",
              "      <th>starts</th>\n",
              "      <th>minutes</th>\n",
              "      <th>90s_played</th>\n",
              "      <th>goals</th>\n",
              "      <th>assists</th>\n",
              "      <th>non_penalty_goals</th>\n",
              "      <th>penalty_kicks_made</th>\n",
              "      <th>penalty_kicks_attempted</th>\n",
              "      <th>yellow_cards</th>\n",
              "      <th>red_cards</th>\n",
              "      <th>goals_per90</th>\n",
              "      <th>assists_per90</th>\n",
              "      <th>goals+assists_per90</th>\n",
              "      <th>non_penalty_goals_per90</th>\n",
              "      <th>non_penalty_goals+assists_per90</th>\n",
              "      <th>exp_goals</th>\n",
              "      <th>non_penalty_exp_goals</th>\n",
              "      <th>exp_assists</th>\n",
              "      <th>non_penalty_exp_goals+assists</th>\n",
              "      <th>exp_goals_per90</th>\n",
              "      <th>exp_assists_per90</th>\n",
              "      <th>exp_goals+assists_per90</th>\n",
              "      <th>non_penalty_exp_goals_per90</th>\n",
              "      <th>non_penalty_exp_goals+assists_per90</th>\n",
              "      <th>season</th>\n",
              "    </tr>\n",
              "  </thead>\n",
              "  <tbody>\n",
              "    <tr>\n",
              "      <th>0</th>\n",
              "      <td>Arsenal</td>\n",
              "      <td>29</td>\n",
              "      <td>25.8</td>\n",
              "      <td>54.0</td>\n",
              "      <td>38</td>\n",
              "      <td>418</td>\n",
              "      <td>3420</td>\n",
              "      <td>38.0</td>\n",
              "      <td>56</td>\n",
              "      <td>35</td>\n",
              "      <td>53</td>\n",
              "      <td>3</td>\n",
              "      <td>3</td>\n",
              "      <td>88</td>\n",
              "      <td>5</td>\n",
              "      <td>1.47</td>\n",
              "      <td>0.92</td>\n",
              "      <td>2.39</td>\n",
              "      <td>1.39</td>\n",
              "      <td>2.32</td>\n",
              "      <td>49.2</td>\n",
              "      <td>46.9</td>\n",
              "      <td>29.9</td>\n",
              "      <td>76.9</td>\n",
              "      <td>1.30</td>\n",
              "      <td>0.79</td>\n",
              "      <td>2.08</td>\n",
              "      <td>1.24</td>\n",
              "      <td>2.02</td>\n",
              "      <td>2019-2020</td>\n",
              "    </tr>\n",
              "    <tr>\n",
              "      <th>20</th>\n",
              "      <td>Arsenal</td>\n",
              "      <td>29</td>\n",
              "      <td>25.9</td>\n",
              "      <td>53.8</td>\n",
              "      <td>38</td>\n",
              "      <td>418</td>\n",
              "      <td>3420</td>\n",
              "      <td>38.0</td>\n",
              "      <td>53</td>\n",
              "      <td>38</td>\n",
              "      <td>47</td>\n",
              "      <td>6</td>\n",
              "      <td>6</td>\n",
              "      <td>49</td>\n",
              "      <td>5</td>\n",
              "      <td>1.39</td>\n",
              "      <td>1.00</td>\n",
              "      <td>2.39</td>\n",
              "      <td>1.24</td>\n",
              "      <td>2.24</td>\n",
              "      <td>53.5</td>\n",
              "      <td>49.0</td>\n",
              "      <td>36.6</td>\n",
              "      <td>85.5</td>\n",
              "      <td>1.41</td>\n",
              "      <td>0.96</td>\n",
              "      <td>2.37</td>\n",
              "      <td>1.29</td>\n",
              "      <td>2.25</td>\n",
              "      <td>2020-2021</td>\n",
              "    </tr>\n",
              "    <tr>\n",
              "      <th>40</th>\n",
              "      <td>Arsenal</td>\n",
              "      <td>26</td>\n",
              "      <td>24.9</td>\n",
              "      <td>45.1</td>\n",
              "      <td>7</td>\n",
              "      <td>77</td>\n",
              "      <td>630</td>\n",
              "      <td>7.0</td>\n",
              "      <td>5</td>\n",
              "      <td>3</td>\n",
              "      <td>5</td>\n",
              "      <td>0</td>\n",
              "      <td>0</td>\n",
              "      <td>11</td>\n",
              "      <td>1</td>\n",
              "      <td>0.71</td>\n",
              "      <td>0.43</td>\n",
              "      <td>1.14</td>\n",
              "      <td>0.71</td>\n",
              "      <td>1.14</td>\n",
              "      <td>7.4</td>\n",
              "      <td>7.4</td>\n",
              "      <td>4.9</td>\n",
              "      <td>12.4</td>\n",
              "      <td>1.06</td>\n",
              "      <td>0.70</td>\n",
              "      <td>1.76</td>\n",
              "      <td>1.06</td>\n",
              "      <td>1.76</td>\n",
              "      <td>2021-2022</td>\n",
              "    </tr>\n",
              "  </tbody>\n",
              "</table>\n",
              "</div>"
            ],
            "text/plain": [
              "      squad  ...     season\n",
              "0   Arsenal  ...  2019-2020\n",
              "20  Arsenal  ...  2020-2021\n",
              "40  Arsenal  ...  2021-2022\n",
              "\n",
              "[3 rows x 30 columns]"
            ]
          },
          "metadata": {},
          "execution_count": 58
        }
      ]
    },
    {
      "cell_type": "code",
      "metadata": {
        "id": "akXZQHEQ5pE3"
      },
      "source": [
        "#exporting the file\n",
        "pl_team_stats.to_csv(\"pl_team_stats.csv\")"
      ],
      "execution_count": 51,
      "outputs": []
    },
    {
      "cell_type": "code",
      "metadata": {
        "colab": {
          "base_uri": "https://localhost:8080/",
          "height": 17
        },
        "id": "ym6bKVrk5pHi",
        "outputId": "e2bd12d7-8b06-4022-a5b6-ca2da26e3704"
      },
      "source": [
        "from google.colab import files\n",
        "files.download(\"pl_team_stats.csv\")"
      ],
      "execution_count": 52,
      "outputs": [
        {
          "output_type": "display_data",
          "data": {
            "application/javascript": [
              "\n",
              "    async function download(id, filename, size) {\n",
              "      if (!google.colab.kernel.accessAllowed) {\n",
              "        return;\n",
              "      }\n",
              "      const div = document.createElement('div');\n",
              "      const label = document.createElement('label');\n",
              "      label.textContent = `Downloading \"${filename}\": `;\n",
              "      div.appendChild(label);\n",
              "      const progress = document.createElement('progress');\n",
              "      progress.max = size;\n",
              "      div.appendChild(progress);\n",
              "      document.body.appendChild(div);\n",
              "\n",
              "      const buffers = [];\n",
              "      let downloaded = 0;\n",
              "\n",
              "      const channel = await google.colab.kernel.comms.open(id);\n",
              "      // Send a message to notify the kernel that we're ready.\n",
              "      channel.send({})\n",
              "\n",
              "      for await (const message of channel.messages) {\n",
              "        // Send a message to notify the kernel that we're ready.\n",
              "        channel.send({})\n",
              "        if (message.buffers) {\n",
              "          for (const buffer of message.buffers) {\n",
              "            buffers.push(buffer);\n",
              "            downloaded += buffer.byteLength;\n",
              "            progress.value = downloaded;\n",
              "          }\n",
              "        }\n",
              "      }\n",
              "      const blob = new Blob(buffers, {type: 'application/binary'});\n",
              "      const a = document.createElement('a');\n",
              "      a.href = window.URL.createObjectURL(blob);\n",
              "      a.download = filename;\n",
              "      div.appendChild(a);\n",
              "      a.click();\n",
              "      div.remove();\n",
              "    }\n",
              "  "
            ],
            "text/plain": [
              "<IPython.core.display.Javascript object>"
            ]
          },
          "metadata": {}
        },
        {
          "output_type": "display_data",
          "data": {
            "application/javascript": [
              "download(\"download_1250f4bf-9e86-402d-843b-5bd60259d9b3\", \"pl_team_stats.csv\", 8983)"
            ],
            "text/plain": [
              "<IPython.core.display.Javascript object>"
            ]
          },
          "metadata": {}
        }
      ]
    },
    {
      "cell_type": "code",
      "metadata": {
        "id": "wzj9AY2E5pKS"
      },
      "source": [
        ""
      ],
      "execution_count": null,
      "outputs": []
    },
    {
      "cell_type": "code",
      "metadata": {
        "id": "MdYu8d-S5pNC"
      },
      "source": [
        ""
      ],
      "execution_count": null,
      "outputs": []
    },
    {
      "cell_type": "code",
      "metadata": {
        "id": "TkpsJOwT5pPq"
      },
      "source": [
        ""
      ],
      "execution_count": null,
      "outputs": []
    }
  ]
}