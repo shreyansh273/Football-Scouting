{
  "nbformat": 4,
  "nbformat_minor": 0,
  "metadata": {
    "colab": {
      "name": "PL team stats scraping.ipynb",
      "provenance": [],
      "collapsed_sections": [],
      "authorship_tag": "ABX9TyPhaatch+jqhpDJlq/FuJKo",
      "include_colab_link": true
    },
    "kernelspec": {
      "name": "python3",
      "display_name": "Python 3"
    },
    "language_info": {
      "name": "python"
    }
  },
  "cells": [
    {
      "cell_type": "markdown",
      "metadata": {
        "id": "view-in-github",
        "colab_type": "text"
      },
      "source": [
        "<a href=\"https://colab.research.google.com/github/shreyansh273/Football-Scouting/blob/main/PL_team_stats_scraping.ipynb\" target=\"_parent\"><img src=\"https://colab.research.google.com/assets/colab-badge.svg\" alt=\"Open In Colab\"/></a>"
      ]
    },
    {
      "cell_type": "code",
      "metadata": {
        "id": "I1vp23TA5iG_"
      },
      "source": [
        "import requests\n",
        "from bs4 import BeautifulSoup\n",
        "import pandas as pd\n",
        "import numpy as np\n",
        "import re\n",
        "import sys, getopt\n",
        "import csv"
      ],
      "execution_count": 2,
      "outputs": []
    },
    {
      "cell_type": "code",
      "metadata": {
        "colab": {
          "base_uri": "https://localhost:8080/",
          "height": 202
        },
        "id": "vHklILxA5o_t",
        "outputId": "880fba6b-3b1a-4c61-b0bb-38089b7f5cd2"
      },
      "source": [
        "#scraping fbref website for Premire League team stats for 2020-21 season\n",
        "url = 'https://fbref.com/en/comps/9/10728/stats/2020-2021-Premier-League-Stats'\n",
        "html_content = requests.get(url).text.replace('<!--', '').replace('-->', '')\n",
        "df = pd.read_html(html_content)\n",
        "df[0].columns = df[0].columns.droplevel(0) # drop top header row\n",
        "pl_team_stats = df[0]\n",
        "pl_team_stats.head()"
      ],
      "execution_count": 16,
      "outputs": [
        {
          "output_type": "execute_result",
          "data": {
            "text/html": [
              "<div>\n",
              "<style scoped>\n",
              "    .dataframe tbody tr th:only-of-type {\n",
              "        vertical-align: middle;\n",
              "    }\n",
              "\n",
              "    .dataframe tbody tr th {\n",
              "        vertical-align: top;\n",
              "    }\n",
              "\n",
              "    .dataframe thead th {\n",
              "        text-align: right;\n",
              "    }\n",
              "</style>\n",
              "<table border=\"1\" class=\"dataframe\">\n",
              "  <thead>\n",
              "    <tr style=\"text-align: right;\">\n",
              "      <th></th>\n",
              "      <th>Squad</th>\n",
              "      <th># Pl</th>\n",
              "      <th>Age</th>\n",
              "      <th>Poss</th>\n",
              "      <th>MP</th>\n",
              "      <th>Starts</th>\n",
              "      <th>Min</th>\n",
              "      <th>90s</th>\n",
              "      <th>Gls</th>\n",
              "      <th>Ast</th>\n",
              "      <th>G-PK</th>\n",
              "      <th>PK</th>\n",
              "      <th>PKatt</th>\n",
              "      <th>CrdY</th>\n",
              "      <th>CrdR</th>\n",
              "      <th>Gls</th>\n",
              "      <th>Ast</th>\n",
              "      <th>G+A</th>\n",
              "      <th>G-PK</th>\n",
              "      <th>G+A-PK</th>\n",
              "      <th>xG</th>\n",
              "      <th>npxG</th>\n",
              "      <th>xA</th>\n",
              "      <th>npxG+xA</th>\n",
              "      <th>xG</th>\n",
              "      <th>xA</th>\n",
              "      <th>xG+xA</th>\n",
              "      <th>npxG</th>\n",
              "      <th>npxG+xA</th>\n",
              "    </tr>\n",
              "  </thead>\n",
              "  <tbody>\n",
              "    <tr>\n",
              "      <th>0</th>\n",
              "      <td>Arsenal</td>\n",
              "      <td>29</td>\n",
              "      <td>25.9</td>\n",
              "      <td>53.8</td>\n",
              "      <td>38</td>\n",
              "      <td>418</td>\n",
              "      <td>3420</td>\n",
              "      <td>38.0</td>\n",
              "      <td>53</td>\n",
              "      <td>38</td>\n",
              "      <td>47</td>\n",
              "      <td>6</td>\n",
              "      <td>6</td>\n",
              "      <td>49</td>\n",
              "      <td>5</td>\n",
              "      <td>1.39</td>\n",
              "      <td>1.00</td>\n",
              "      <td>2.39</td>\n",
              "      <td>1.24</td>\n",
              "      <td>2.24</td>\n",
              "      <td>53.5</td>\n",
              "      <td>49.0</td>\n",
              "      <td>36.6</td>\n",
              "      <td>85.5</td>\n",
              "      <td>1.41</td>\n",
              "      <td>0.96</td>\n",
              "      <td>2.37</td>\n",
              "      <td>1.29</td>\n",
              "      <td>2.25</td>\n",
              "    </tr>\n",
              "    <tr>\n",
              "      <th>1</th>\n",
              "      <td>Aston Villa</td>\n",
              "      <td>24</td>\n",
              "      <td>25.2</td>\n",
              "      <td>48.1</td>\n",
              "      <td>38</td>\n",
              "      <td>418</td>\n",
              "      <td>3420</td>\n",
              "      <td>38.0</td>\n",
              "      <td>52</td>\n",
              "      <td>38</td>\n",
              "      <td>47</td>\n",
              "      <td>5</td>\n",
              "      <td>6</td>\n",
              "      <td>71</td>\n",
              "      <td>4</td>\n",
              "      <td>1.37</td>\n",
              "      <td>1.00</td>\n",
              "      <td>2.37</td>\n",
              "      <td>1.24</td>\n",
              "      <td>2.24</td>\n",
              "      <td>52.9</td>\n",
              "      <td>48.5</td>\n",
              "      <td>37.1</td>\n",
              "      <td>85.6</td>\n",
              "      <td>1.39</td>\n",
              "      <td>0.98</td>\n",
              "      <td>2.37</td>\n",
              "      <td>1.28</td>\n",
              "      <td>2.25</td>\n",
              "    </tr>\n",
              "    <tr>\n",
              "      <th>2</th>\n",
              "      <td>Brighton</td>\n",
              "      <td>27</td>\n",
              "      <td>25.8</td>\n",
              "      <td>51.3</td>\n",
              "      <td>38</td>\n",
              "      <td>418</td>\n",
              "      <td>3420</td>\n",
              "      <td>38.0</td>\n",
              "      <td>39</td>\n",
              "      <td>24</td>\n",
              "      <td>33</td>\n",
              "      <td>6</td>\n",
              "      <td>9</td>\n",
              "      <td>49</td>\n",
              "      <td>6</td>\n",
              "      <td>1.03</td>\n",
              "      <td>0.63</td>\n",
              "      <td>1.66</td>\n",
              "      <td>0.87</td>\n",
              "      <td>1.50</td>\n",
              "      <td>51.6</td>\n",
              "      <td>44.8</td>\n",
              "      <td>33.0</td>\n",
              "      <td>77.8</td>\n",
              "      <td>1.36</td>\n",
              "      <td>0.87</td>\n",
              "      <td>2.23</td>\n",
              "      <td>1.18</td>\n",
              "      <td>2.05</td>\n",
              "    </tr>\n",
              "    <tr>\n",
              "      <th>3</th>\n",
              "      <td>Burnley</td>\n",
              "      <td>25</td>\n",
              "      <td>28.3</td>\n",
              "      <td>41.7</td>\n",
              "      <td>38</td>\n",
              "      <td>418</td>\n",
              "      <td>3420</td>\n",
              "      <td>38.0</td>\n",
              "      <td>32</td>\n",
              "      <td>20</td>\n",
              "      <td>29</td>\n",
              "      <td>3</td>\n",
              "      <td>3</td>\n",
              "      <td>48</td>\n",
              "      <td>0</td>\n",
              "      <td>0.84</td>\n",
              "      <td>0.53</td>\n",
              "      <td>1.37</td>\n",
              "      <td>0.76</td>\n",
              "      <td>1.29</td>\n",
              "      <td>39.9</td>\n",
              "      <td>37.6</td>\n",
              "      <td>27.1</td>\n",
              "      <td>64.8</td>\n",
              "      <td>1.05</td>\n",
              "      <td>0.71</td>\n",
              "      <td>1.76</td>\n",
              "      <td>0.99</td>\n",
              "      <td>1.70</td>\n",
              "    </tr>\n",
              "    <tr>\n",
              "      <th>4</th>\n",
              "      <td>Chelsea</td>\n",
              "      <td>27</td>\n",
              "      <td>26.0</td>\n",
              "      <td>61.4</td>\n",
              "      <td>38</td>\n",
              "      <td>418</td>\n",
              "      <td>3420</td>\n",
              "      <td>38.0</td>\n",
              "      <td>56</td>\n",
              "      <td>38</td>\n",
              "      <td>48</td>\n",
              "      <td>8</td>\n",
              "      <td>10</td>\n",
              "      <td>51</td>\n",
              "      <td>3</td>\n",
              "      <td>1.47</td>\n",
              "      <td>1.00</td>\n",
              "      <td>2.47</td>\n",
              "      <td>1.26</td>\n",
              "      <td>2.26</td>\n",
              "      <td>64.0</td>\n",
              "      <td>56.4</td>\n",
              "      <td>42.4</td>\n",
              "      <td>98.8</td>\n",
              "      <td>1.68</td>\n",
              "      <td>1.12</td>\n",
              "      <td>2.80</td>\n",
              "      <td>1.48</td>\n",
              "      <td>2.60</td>\n",
              "    </tr>\n",
              "  </tbody>\n",
              "</table>\n",
              "</div>"
            ],
            "text/plain": [
              "         Squad  # Pl   Age  Poss  MP  ...    xG    xA  xG+xA  npxG  npxG+xA\n",
              "0      Arsenal    29  25.9  53.8  38  ...  1.41  0.96   2.37  1.29     2.25\n",
              "1  Aston Villa    24  25.2  48.1  38  ...  1.39  0.98   2.37  1.28     2.25\n",
              "2     Brighton    27  25.8  51.3  38  ...  1.36  0.87   2.23  1.18     2.05\n",
              "3      Burnley    25  28.3  41.7  38  ...  1.05  0.71   1.76  0.99     1.70\n",
              "4      Chelsea    27  26.0  61.4  38  ...  1.68  1.12   2.80  1.48     2.60\n",
              "\n",
              "[5 rows x 29 columns]"
            ]
          },
          "metadata": {},
          "execution_count": 16
        }
      ]
    },
    {
      "cell_type": "code",
      "metadata": {
        "id": "akXZQHEQ5pE3"
      },
      "source": [
        "#exporting the file\n",
        "pl_team_stats.to_csv(\"pl_team_stats.csv\")"
      ],
      "execution_count": 17,
      "outputs": []
    },
    {
      "cell_type": "code",
      "metadata": {
        "colab": {
          "base_uri": "https://localhost:8080/",
          "height": 17
        },
        "id": "ym6bKVrk5pHi",
        "outputId": "4a0b02da-0899-4679-fb90-649081f7ddad"
      },
      "source": [
        "from google.colab import files\n",
        "files.download(\"pl_team_stats.csv\")"
      ],
      "execution_count": 18,
      "outputs": [
        {
          "output_type": "display_data",
          "data": {
            "application/javascript": [
              "\n",
              "    async function download(id, filename, size) {\n",
              "      if (!google.colab.kernel.accessAllowed) {\n",
              "        return;\n",
              "      }\n",
              "      const div = document.createElement('div');\n",
              "      const label = document.createElement('label');\n",
              "      label.textContent = `Downloading \"${filename}\": `;\n",
              "      div.appendChild(label);\n",
              "      const progress = document.createElement('progress');\n",
              "      progress.max = size;\n",
              "      div.appendChild(progress);\n",
              "      document.body.appendChild(div);\n",
              "\n",
              "      const buffers = [];\n",
              "      let downloaded = 0;\n",
              "\n",
              "      const channel = await google.colab.kernel.comms.open(id);\n",
              "      // Send a message to notify the kernel that we're ready.\n",
              "      channel.send({})\n",
              "\n",
              "      for await (const message of channel.messages) {\n",
              "        // Send a message to notify the kernel that we're ready.\n",
              "        channel.send({})\n",
              "        if (message.buffers) {\n",
              "          for (const buffer of message.buffers) {\n",
              "            buffers.push(buffer);\n",
              "            downloaded += buffer.byteLength;\n",
              "            progress.value = downloaded;\n",
              "          }\n",
              "        }\n",
              "      }\n",
              "      const blob = new Blob(buffers, {type: 'application/binary'});\n",
              "      const a = document.createElement('a');\n",
              "      a.href = window.URL.createObjectURL(blob);\n",
              "      a.download = filename;\n",
              "      div.appendChild(a);\n",
              "      a.click();\n",
              "      div.remove();\n",
              "    }\n",
              "  "
            ],
            "text/plain": [
              "<IPython.core.display.Javascript object>"
            ]
          },
          "metadata": {}
        },
        {
          "output_type": "display_data",
          "data": {
            "application/javascript": [
              "download(\"download_10d966da-eac8-4f28-8453-964b4fed5c11\", \"pl_team_stats.csv\", 2761)"
            ],
            "text/plain": [
              "<IPython.core.display.Javascript object>"
            ]
          },
          "metadata": {}
        }
      ]
    },
    {
      "cell_type": "code",
      "metadata": {
        "id": "wzj9AY2E5pKS"
      },
      "source": [
        ""
      ],
      "execution_count": null,
      "outputs": []
    },
    {
      "cell_type": "code",
      "metadata": {
        "id": "MdYu8d-S5pNC"
      },
      "source": [
        ""
      ],
      "execution_count": null,
      "outputs": []
    },
    {
      "cell_type": "code",
      "metadata": {
        "id": "TkpsJOwT5pPq"
      },
      "source": [
        ""
      ],
      "execution_count": null,
      "outputs": []
    }
  ]
}